{
 "cells": [
  {
   "cell_type": "markdown",
   "metadata": {},
   "source": [
    "# Final Project Submission\n",
    "\n",
    "Please fill out:\n",
    "* Student name:  James M. Irving\n",
    "* Student pace:  full time\n",
    "* Scheduled project review date/time:  03/08/19 at 12pm\n",
    "* Instructor name: Jeff Herman\n",
    "* Blog post URL: https://jirvingphd.github.io/harnessing_seaborn_subplots_for_eda\n",
    "___"
   ]
  },
  {
   "cell_type": "markdown",
   "metadata": {
    "toc": true
   },
   "source": [
    "<h1>Table of Contents (Links)<span class=\"tocSkip\"></span></h1>\n",
    "<div class=\"toc\"><ul class=\"toc-item\"><li><span><a href=\"#Final-Project-Submission\" data-toc-modified-id=\"Final-Project-Submission-1\">Final Project Submission</a></span></li><li><span><a href=\"#FINAL-SUMMARY-FIGURES-FROM-PRESENTATION\" data-toc-modified-id=\"FINAL-SUMMARY-FIGURES-FROM-PRESENTATION-2\">FINAL SUMMARY FIGURES FROM PRESENTATION</a></span><ul class=\"toc-item\"><li><ul class=\"toc-item\"><li><span><a href=\"#HOW-TO:-Tableau-Maps-were-from-final-.csv-loaded-into-Tableau-Public-and-can-be-viewed-and-downloaded-from--https://public.tableau.com/profile/james.irving#!/\" data-toc-modified-id=\"HOW-TO:-Tableau-Maps-were-from-final-.csv-loaded-into-Tableau-Public-and-can-be-viewed-and-downloaded-from--https://public.tableau.com/profile/james.irving#!/-2.0.1\">HOW TO: Tableau Maps were from final .csv loaded into Tableau Public and can be viewed and downloaded from  <a href=\"https://public.tableau.com/profile/james.irving#!/\" target=\"_blank\">https://public.tableau.com/profile/james.irving#!/</a></a></span><ul class=\"toc-item\"><li><span><a href=\"#Short-how-to-plot-geo-data-in-Tableau:\" data-toc-modified-id=\"Short-how-to-plot-geo-data-in-Tableau:-2.0.1.1\">Short how-to plot geo data in Tableau:</a></span></li></ul></li></ul></li></ul></li><li><span><a href=\"#Outline-of-Data-Processing-and-Analysis(using-OSEMN-model)\" data-toc-modified-id=\"Outline-of-Data-Processing-and-Analysis(using-OSEMN-model)-3\">Outline of Data Processing and Analysis(using OSEMN model)</a></span></li><li><span><a href=\"#OBTAIN:\" data-toc-modified-id=\"OBTAIN:-4\">OBTAIN:</a></span><ul class=\"toc-item\"><li><ul class=\"toc-item\"><li><span><a href=\"#NOTE-TO-USER:-SAVED-FILES.\" data-toc-modified-id=\"NOTE-TO-USER:-SAVED-FILES.-4.0.1\">NOTE TO USER: SAVED FILES.</a></span></li></ul></li></ul></li><li><span><a href=\"#SCRUB:\" data-toc-modified-id=\"SCRUB:-5\">SCRUB:</a></span><ul class=\"toc-item\"><li><ul class=\"toc-item\"><li><ul class=\"toc-item\"><li><span><a href=\"#Initial-inspection-of-dataframe,-datatypes,-and-null-values\" data-toc-modified-id=\"Initial-inspection-of-dataframe,-datatypes,-and-null-values-5.0.0.1\">Initial inspection of dataframe, datatypes, and null values</a></span></li></ul></li></ul></li><li><span><a href=\"#Fill-in-null-values-and-recast-variables-for-EDA\" data-toc-modified-id=\"Fill-in-null-values-and-recast-variables-for-EDA-5.1\">Fill in null values and recast variables for EDA</a></span><ul class=\"toc-item\"><li><span><a href=\"#zipcode\" data-toc-modified-id=\"zipcode-5.1.1\">zipcode</a></span></li><li><span><a href=\"#sqft_basement\" data-toc-modified-id=\"sqft_basement-5.1.2\">sqft_basement</a></span></li><li><span><a href=\"#View\" data-toc-modified-id=\"View-5.1.3\">View</a></span></li><li><span><a href=\"#Waterfront\" data-toc-modified-id=\"Waterfront-5.1.4\">Waterfront</a></span></li><li><span><a href=\"#yr_renovated---->-is_reno\" data-toc-modified-id=\"yr_renovated---->-is_reno-5.1.5\">yr_renovated  --&gt; is_reno</a></span><ul class=\"toc-item\"><li><ul class=\"toc-item\"><li><span><a href=\"#Make-is_reno-category-(0-or-1)\" data-toc-modified-id=\"Make-is_reno-category-(0-or-1)-5.1.5.0.1\">Make is_reno category (0 or 1)</a></span></li></ul></li></ul></li><li><span><a href=\"#SCRUBBING-THUS-FAR...\" data-toc-modified-id=\"SCRUBBING-THUS-FAR...-5.1.6\">SCRUBBING THUS FAR...</a></span></li></ul></li><li><span><a href=\"#Question-1:-Which-predictors-should-be-analyzed-as-continuous-data,-vs-binned/categorical-data?\" data-toc-modified-id=\"Question-1:-Which-predictors-should-be-analyzed-as-continuous-data,-vs-binned/categorical-data?-5.2\">Question 1: Which predictors should be analyzed as continuous data, vs binned/categorical data?</a></span><ul class=\"toc-item\"><li><ul class=\"toc-item\"><li><span><a href=\"#Identifying-numerical-data-better-analyzed-as-categorical\" data-toc-modified-id=\"Identifying-numerical-data-better-analyzed-as-categorical-5.2.0.1\">Identifying numerical data better analyzed as categorical</a></span></li></ul></li><li><span><a href=\"#Answer-1:-How-to-treat-each-variable\" data-toc-modified-id=\"Answer-1:-How-to-treat-each-variable-5.2.1\">Answer 1: How to treat each variable</a></span><ul class=\"toc-item\"><li><span><a href=\"#First,-to-comment-on-scatter-plots-that-are-indicative-of-categorical-data:\" data-toc-modified-id=\"First,-to-comment-on-scatter-plots-that-are-indicative-of-categorical-data:-5.2.1.1\">First, to comment on scatter plots that are indicative of categorical data:</a></span></li><li><span><a href=\"#Second,-to-comment-on-distributions\" data-toc-modified-id=\"Second,-to-comment-on-distributions-5.2.1.2\">Second, to comment on distributions</a></span></li></ul></li><li><span><a href=\"#List-of-vartypes/names\" data-toc-modified-id=\"List-of-vartypes/names-5.2.2\">List of vartypes/names</a></span></li></ul></li><li><span><a href=\"#COARSE-BINNING-Numerical-Data\" data-toc-modified-id=\"COARSE-BINNING-Numerical-Data-5.3\">COARSE-BINNING Numerical Data</a></span><ul class=\"toc-item\"><li><span><a href=\"#binning-yr_built\" data-toc-modified-id=\"binning-yr_built-5.3.1\">binning yr_built</a></span></li><li><span><a href=\"#binning-sqft_basement\" data-toc-modified-id=\"binning-sqft_basement-5.3.2\">binning sqft_basement</a></span></li><li><span><a href=\"#binning-sqft_above\" data-toc-modified-id=\"binning-sqft_above-5.3.3\">binning sqft_above</a></span></li></ul></li><li><span><a href=\"#CHECKING-FOR-MULTICOLLINEARITY\" data-toc-modified-id=\"CHECKING-FOR-MULTICOLLINEARITY-5.4\">CHECKING FOR MULTICOLLINEARITY</a></span><ul class=\"toc-item\"><li><span><a href=\"#Question-2:Which-predictors-are-closely-related-and-should-be-dropped?\" data-toc-modified-id=\"Question-2:Which-predictors-are-closely-related-and-should-be-dropped?-5.4.1\">Question 2:Which predictors are closely related and should be dropped?</a></span></li><li><span><a href=\"#Answer-2:\" data-toc-modified-id=\"Answer-2:-5.4.2\">Answer 2:</a></span></li></ul></li></ul></li><li><span><a href=\"#EXPLORE:\" data-toc-modified-id=\"EXPLORE:-6\">EXPLORE:</a></span><ul class=\"toc-item\"><li><span><a href=\"#EDA-before-normalization/transformation\" data-toc-modified-id=\"EDA-before-normalization/transformation-6.1\">EDA before normalization/transformation</a></span><ul class=\"toc-item\"><li><span><a href=\"#Examine-basic-descriptive-stats\" data-toc-modified-id=\"Examine-basic-descriptive-stats-6.1.1\">Examine basic descriptive stats</a></span><ul class=\"toc-item\"><li><span><a href=\"#Notes-on-basic-statistics\" data-toc-modified-id=\"Notes-on-basic-statistics-6.1.1.1\">Notes on basic statistics</a></span></li></ul></li><li><span><a href=\"#Visualizing-numerical-data\" data-toc-modified-id=\"Visualizing-numerical-data-6.1.2\">Visualizing numerical data</a></span><ul class=\"toc-item\"><li><span><a href=\"#Notes-on-distplots\" data-toc-modified-id=\"Notes-on-distplots-6.1.2.1\">Notes on distplots</a></span></li></ul></li><li><span><a href=\"#Visualizing-categorical-data\" data-toc-modified-id=\"Visualizing-categorical-data-6.1.3\">Visualizing categorical data</a></span></li><li><span><a href=\"#Question/Answer-3A:-Which-categorical-variables-show-the-greatest-potential-as-predictors?\" data-toc-modified-id=\"Question/Answer-3A:-Which-categorical-variables-show-the-greatest-potential-as-predictors?-6.1.4\">Question/Answer 3A: Which categorical variables show the greatest potential as predictors?</a></span><ul class=\"toc-item\"><li><span><a href=\"#ANSWER-3A:\" data-toc-modified-id=\"ANSWER-3A:-6.1.4.1\">ANSWER 3A:</a></span></li></ul></li></ul></li></ul></li><li><span><a href=\"#[SCRUB-2]-NORMALIZING-&amp;-TRANSFORMING\" data-toc-modified-id=\"[SCRUB-2]-NORMALIZING-&amp;-TRANSFORMING-7\">[SCRUB-2] NORMALIZING &amp; TRANSFORMING</a></span><ul class=\"toc-item\"><li><span><a href=\"#Outlier-Removal---visualizing\" data-toc-modified-id=\"Outlier-Removal---visualizing-7.1\">Outlier Removal - visualizing</a></span><ul class=\"toc-item\"><li><span><a href=\"#Question/Answer-3B:-Does-removal-of-outliers-improve-the-distrubtions?\" data-toc-modified-id=\"Question/Answer-3B:-Does-removal-of-outliers-improve-the-distrubtions?-7.1.1\">Question/Answer 3B: Does removal of outliers improve the distrubtions?</a></span></li></ul></li><li><span><a href=\"#REMOVING-OUTLIERS\" data-toc-modified-id=\"REMOVING-OUTLIERS-7.2\">REMOVING OUTLIERS</a></span><ul class=\"toc-item\"><li><ul class=\"toc-item\"><li><span><a href=\"#Recall-stats-observations-from-beginning-of-EDA:\" data-toc-modified-id=\"Recall-stats-observations-from-beginning-of-EDA:-7.2.0.1\">Recall stats observations from beginning of EDA:</a></span></li><li><span><a href=\"#Notes-on-basic-statistics\" data-toc-modified-id=\"Notes-on-basic-statistics-7.2.0.2\">Notes on basic statistics</a></span></li></ul></li><li><span><a href=\"#Filling-in-df_norm\" data-toc-modified-id=\"Filling-in-df_norm-7.2.1\">Filling in df_norm</a></span></li></ul></li><li><span><a href=\"#NORMALIZING-UNITS-(RobustScaler)\" data-toc-modified-id=\"NORMALIZING-UNITS-(RobustScaler)-7.3\">NORMALIZING UNITS (RobustScaler)</a></span></li></ul></li><li><span><a href=\"#CHECKING-NORMALIZED-DATASET\" data-toc-modified-id=\"CHECKING-NORMALIZED-DATASET-8\">CHECKING NORMALIZED DATASET</a></span><ul class=\"toc-item\"><li><span><a href=\"#Recheck-multipol\" data-toc-modified-id=\"Recheck-multipol-8.1\">Recheck multipol</a></span><ul class=\"toc-item\"><li><ul class=\"toc-item\"><li><span><a href=\"#No-multicollinearity-to-worry-about.-Huzzah!\" data-toc-modified-id=\"No-multicollinearity-to-worry-about.-Huzzah!-8.1.0.1\">No multicollinearity to worry about. Huzzah!</a></span></li></ul></li></ul></li><li><span><a href=\"#CAT.CODES-FOR-BINNED-DATA\" data-toc-modified-id=\"CAT.CODES-FOR-BINNED-DATA-8.2\">CAT.CODES FOR BINNED DATA</a></span></li><li><span><a href=\"#Concatenate-final-df-for-modeling-(df_run)\" data-toc-modified-id=\"Concatenate-final-df-for-modeling-(df_run)-8.3\">Concatenate final df for modeling (df_run)</a></span><ul class=\"toc-item\"><li><ul class=\"toc-item\"><li><span><a href=\"#Clever-line-of-code-to-select-columns-by-name\" data-toc-modified-id=\"Clever-line-of-code-to-select-columns-by-name-8.3.0.1\">Clever line of code to select columns by name</a></span></li></ul></li><li><span><a href=\"#Saving/loading-df_run-after-cleaning-up\" data-toc-modified-id=\"Saving/loading-df_run-after-cleaning-up-8.3.1\">Saving/loading df_run after cleaning up</a></span></li></ul></li></ul></li><li><span><a href=\"#FITTING-AN-INTIAL-MODEL:\" data-toc-modified-id=\"FITTING-AN-INTIAL-MODEL:-9\">FITTING AN INTIAL MODEL:</a></span><ul class=\"toc-item\"><li><span><a href=\"#DETERMINING-IDEAL-FEATURES-TO-USE\" data-toc-modified-id=\"DETERMINING-IDEAL-FEATURES-TO-USE-9.1\">DETERMINING IDEAL FEATURES TO USE</a></span><ul class=\"toc-item\"><li><span><a href=\"#Using-elbow-plots-to-identify-the-best-#-of-features-to-use\" data-toc-modified-id=\"Using-elbow-plots-to-identify-the-best-#-of-features-to-use-9.1.1\">Using elbow plots to identify the best # of features to use</a></span><ul class=\"toc-item\"><li><span><a href=\"#Plot-R_squared-and-MSE-for-Scaled-Data\" data-toc-modified-id=\"Plot-R_squared-and-MSE-for-Scaled-Data-9.1.1.1\">Plot R_squared and MSE for Scaled Data</a></span></li><li><span><a href=\"#Plot-R_squared-and-MSE-for-Unscaled-Data\" data-toc-modified-id=\"Plot-R_squared-and-MSE-for-Unscaled-Data-9.1.1.2\">Plot R_squared and MSE for Unscaled Data</a></span></li></ul></li><li><span><a href=\"#Choosing-Features-Based-on-Rankings\" data-toc-modified-id=\"Choosing-Features-Based-on-Rankings-9.1.2\">Choosing Features Based on Rankings</a></span></li></ul></li><li><span><a href=\"#PRELIMINARY-UNIVARIATE-LINEAR-REGRESSION-MODELING\" data-toc-modified-id=\"PRELIMINARY-UNIVARIATE-LINEAR-REGRESSION-MODELING-9.2\">PRELIMINARY UNIVARIATE LINEAR REGRESSION MODELING</a></span><ul class=\"toc-item\"><li><ul class=\"toc-item\"><li><span><a href=\"#NOTES-FOLLOWING-PRELIMINARY-LINEAR-REGRESSIONS\" data-toc-modified-id=\"NOTES-FOLLOWING-PRELIMINARY-LINEAR-REGRESSIONS-9.2.0.1\">NOTES FOLLOWING PRELIMINARY LINEAR REGRESSIONS</a></span></li></ul></li></ul></li><li><span><a href=\"#MULTIVARIATE-REGRESSIONS\" data-toc-modified-id=\"MULTIVARIATE-REGRESSIONS-9.3\">MULTIVARIATE REGRESSIONS</a></span></li><li><span><a href=\"#Cross-Validation-with-K-Fold-Test-Train-Splits:\" data-toc-modified-id=\"Cross-Validation-with-K-Fold-Test-Train-Splits:-9.4\">Cross-Validation with K-Fold Test-Train Splits:</a></span><ul class=\"toc-item\"><li><span><a href=\"#Save-df_run_ols-to-csv\" data-toc-modified-id=\"Save-df_run_ols-to-csv-9.4.1\">Save df_run_ols to csv</a></span></li></ul></li></ul></li><li><span><a href=\"#FINAL-REGRESSION-RESULTS\" data-toc-modified-id=\"FINAL-REGRESSION-RESULTS-10\">FINAL REGRESSION RESULTS</a></span><ul class=\"toc-item\"><li><span><a href=\"#K-Fold-valiation-with-OLS\" data-toc-modified-id=\"K-Fold-valiation-with-OLS-10.1\">K-Fold valiation with OLS</a></span></li><li><span><a href=\"#Q-Q-Plots\" data-toc-modified-id=\"Q-Q-Plots-10.2\">Q-Q Plots</a></span></li></ul></li><li><span><a href=\"#FINAL-MODEL---New\" data-toc-modified-id=\"FINAL-MODEL---New-11\">FINAL MODEL - New</a></span><ul class=\"toc-item\"><li><span><a href=\"#Predictor-Coefficients-&amp;-Their-Affect-On-Sales-Price\" data-toc-modified-id=\"Predictor-Coefficients-&amp;-Their-Affect-On-Sales-Price-11.1\">Predictor Coefficients &amp; Their Affect On Sales Price</a></span></li><li><span><a href=\"#Future-Directions\" data-toc-modified-id=\"Future-Directions-11.2\">Future Directions</a></span></li></ul></li><li><span><a href=\"#SUMMARY-FIGURE-CODE-FOR-PRESENTATION\" data-toc-modified-id=\"SUMMARY-FIGURE-CODE-FOR-PRESENTATION-12\">SUMMARY FIGURE CODE FOR PRESENTATION</a></span></li></ul></div>"
   ]
  },
  {
   "cell_type": "markdown",
   "metadata": {},
   "source": [
    "---\n",
    "# FINAL SUMMARY FIGURES FROM PRESENTATION"
   ]
  },
  {
   "cell_type": "markdown",
   "metadata": {},
   "source": [
    "<img src=\"Final Figures/map_latlong_price.png\" width = 700 halign=center>"
   ]
  },
  {
   "cell_type": "markdown",
   "metadata": {},
   "source": [
    "<img src=\"Final Figures/map_median_price.png\" width=700 halign=center>"
   ]
  },
  {
   "cell_type": "markdown",
   "metadata": {},
   "source": [
    "<img src=\"Final Figures/summary_figure.png\" width=800 halign=center>"
   ]
  },
  {
   "cell_type": "markdown",
   "metadata": {},
   "source": [
    "### HOW TO: Tableau Maps were from final .csv loaded into Tableau Public and can be viewed and downloaded from  https://public.tableau.com/profile/james.irving#!/ \n",
    "\n",
    "#### Short how-to plot geo data in Tableau: \n",
    "- Load in your .csv dataset from your project.\n",
    "    - Let it use data interpreter. It should identify zipcode as a location.\n",
    "- On your worksheet page:\n",
    "    - **For plotting each price for each house:**\n",
    "        - Drag the Measures Lat and Long onto the rows and columns boxes (top of sheet)\n",
    "        - Drag the Measure price onto the Color Button under Marks. <br> It should now be listed at the bottom of the Marks panel. \n",
    "        - Right-click and select \"Dimension\"\n",
    "    - **For plotting median income by zipcode:**\n",
    "        - Drag zipcode form the Dimensions panel onto the main graph window. \n",
    "            - It will automatically load in map of location.\n",
    "        - Drag price onto the color button (it will now appear in the Marks window)\n",
    "        - Rich click on Price. Select \"Measure\" > Median\n",
    "    - **Customize map features** by selecting \"Map\" > Map Layers on the Menu Bar. \n",
    "    ___"
   ]
  },
  {
   "cell_type": "markdown",
   "metadata": {},
   "source": [
    "# Outline of Data Processing and Analysis(using OSEMN model)\n",
    "\n",
    "1. **OBTAIN:** \n",
    "    **Import data, inspect, check for datatypes to convert and null values**\n",
    "    - Display header and info\n",
    "    - Drop any unneeded columns (df.drop(['col1','col2'],axis=1)\n",
    "\n",
    "2. **SCRUB: cast data types, identify outliers, check for multicollinearity, normalize data**\n",
    "    - Check and cast data types\n",
    "        - [x] Check for #'s that are store as objects (df.info())\n",
    "            - when converting to #'s, look for odd values (like many 0's), or strings that can't be converted\n",
    "            - Decide how to deal weird/null values (df.unique(), df.isna().sum(), df.describe()-min/max, etc\n",
    "        - [x]  Check for categorical variables stored as integers\n",
    "    - [x] Check for missing values  (df.isna().sum())\n",
    "        - Can drop rows or colums\n",
    "        - For missing numeric data with median or bin/convert to categorical\n",
    "        - For missing categorical data: make NaN own category OR replace with most common category\n",
    "    - [X] Check for multicollinearity\n",
    "         - use seaborn to make correlation matrix plot [Evernote Link](https://www.evernote.com/l/AArNyaEwjA5JUL6I9PazHs_ts_hU-m7ja1I/) \n",
    "        - Good rule of thumb is anything over 0.75 corr is high, remove the variable that has the most correl with the largest # of variables\n",
    "    - [x] Normalize data (may want to do after some exploring)\n",
    "        - Most popular is Z-scoring (but won't fix skew) \n",
    "        - Can log-transform to fix skewed data\n",
    "    \n",
    "            \n",
    "3. **EXPLORE:Check distributions, outliers, etc**\n",
    "    - [ ] Check scales, ranges (df.describe())\n",
    "    - [x] Check histograms to get an idea of distributions (df.hist()) and dat transformations to perform\n",
    "        - Can also do kernel density estimates\n",
    "    - [x] Use scatterplots to check for linearity and possible categorical variables (df.plot(kind-'scatter')\n",
    "        - categoricals will look like vertical lines\n",
    "    - [x] Use pd.plotting.scatter_matrix to visualize possible relationships\n",
    "    - [x] Check for linearity\n",
    "\n",
    "   \n",
    "4. **FIT AN INITIAL MODEL:** \n",
    "    - Various forms, detail later...\n",
    "    - **Assessing the model:**\n",
    "        - Assess parameters (slope,intercept)\n",
    "        - Check if the model explains the variation in the data (RMSE, F, R_square)\n",
    "        - *Are the coeffs, slopes, intercepts in appropriate units?*\n",
    "        - *Whats the impact of collinearity? Can we ignore?*\n",
    "5. **Revise the fitted model**\n",
    "    - Multicollinearity is big issue for lin regression and cannot fully remove it\n",
    "    - Use the predictive ability of model to test it (like R2 and RMSE)\n",
    "    - Check for missed non-linearity\n",
    "6. **Holdout validation / Train/test split**\n",
    "    - use sklearn train_test_split \n",
    "___"
   ]
  },
  {
   "cell_type": "markdown",
   "metadata": {},
   "source": [
    "# OBTAIN:\n",
    " - Import required packages, read in dataframe, and definefunctions"
   ]
  },
  {
   "cell_type": "code",
   "execution_count": 41,
   "metadata": {
    "ExecuteTime": {
     "end_time": "2021-05-29T18:49:45.525695Z",
     "start_time": "2021-05-29T18:49:45.447709Z"
    }
   },
   "outputs": [],
   "source": [
    "from _functions_jirving import *\n",
    "df = pd.read_csv('kc_house_data.csv')   \n",
    "# Set index, create dataframe for dropped variables with id as index for both\n",
    "# df.set_index=('id')\n",
    "drop_me =['id','lat','long','date']\n",
    "df_dropped = df[drop_me].copy()\n",
    "df_dropped.set_index('id')\n",
    "df.drop(drop_me,axis=1,inplace=True)"
   ]
  },
  {
   "cell_type": "markdown",
   "metadata": {},
   "source": [
    "### NOTE TO USER: SAVED FILES.\n",
    "- The below cell determines the output filepaths and should not be altered unless you intend to change those locations"
   ]
  },
  {
   "cell_type": "code",
   "execution_count": 2,
   "metadata": {
    "ExecuteTime": {
     "end_time": "2021-05-29T18:48:22.522507Z",
     "start_time": "2021-05-29T18:48:22.508542Z"
    }
   },
   "outputs": [],
   "source": [
    "folder = %pwd\n",
    "fig_filepath = folder+'/Figures/'\n",
    "data_filepath = folder+'/Data/'"
   ]
  },
  {
   "cell_type": "code",
   "execution_count": 3,
   "metadata": {
    "ExecuteTime": {
     "end_time": "2021-05-29T18:48:22.537541Z",
     "start_time": "2021-05-29T18:48:22.524529Z"
    }
   },
   "outputs": [
    {
     "data": {
      "text/plain": [
       "RangeIndex(start=0, stop=21597, step=1)"
      ]
     },
     "execution_count": 3,
     "metadata": {},
     "output_type": "execute_result"
    }
   ],
   "source": [
    "df.index"
   ]
  },
  {
   "cell_type": "markdown",
   "metadata": {},
   "source": [
    "# SCRUB:\n",
    "\n",
    "#### Initial inspection of dataframe, datatypes, and null values"
   ]
  },
  {
   "cell_type": "code",
   "execution_count": 4,
   "metadata": {
    "ExecuteTime": {
     "end_time": "2021-05-29T18:48:22.568539Z",
     "start_time": "2021-05-29T18:48:22.539506Z"
    }
   },
   "outputs": [
    {
     "data": {
      "text/html": [
       "<div>\n",
       "<style scoped>\n",
       "    .dataframe tbody tr th:only-of-type {\n",
       "        vertical-align: middle;\n",
       "    }\n",
       "\n",
       "    .dataframe tbody tr th {\n",
       "        vertical-align: top;\n",
       "    }\n",
       "\n",
       "    .dataframe thead th {\n",
       "        text-align: right;\n",
       "    }\n",
       "</style>\n",
       "<table border=\"1\" class=\"dataframe\">\n",
       "  <thead>\n",
       "    <tr style=\"text-align: right;\">\n",
       "      <th></th>\n",
       "      <th>price</th>\n",
       "      <th>bedrooms</th>\n",
       "      <th>bathrooms</th>\n",
       "      <th>sqft_living</th>\n",
       "      <th>sqft_lot</th>\n",
       "      <th>floors</th>\n",
       "      <th>waterfront</th>\n",
       "      <th>view</th>\n",
       "      <th>condition</th>\n",
       "      <th>grade</th>\n",
       "      <th>sqft_above</th>\n",
       "      <th>sqft_basement</th>\n",
       "      <th>yr_built</th>\n",
       "      <th>yr_renovated</th>\n",
       "      <th>zipcode</th>\n",
       "      <th>sqft_living15</th>\n",
       "      <th>sqft_lot15</th>\n",
       "    </tr>\n",
       "  </thead>\n",
       "  <tbody>\n",
       "    <tr>\n",
       "      <th>0</th>\n",
       "      <td>221900.0</td>\n",
       "      <td>3</td>\n",
       "      <td>1.00</td>\n",
       "      <td>1180</td>\n",
       "      <td>5650</td>\n",
       "      <td>1.0</td>\n",
       "      <td>NaN</td>\n",
       "      <td>0.0</td>\n",
       "      <td>3</td>\n",
       "      <td>7</td>\n",
       "      <td>1180</td>\n",
       "      <td>0.0</td>\n",
       "      <td>1955</td>\n",
       "      <td>0.0</td>\n",
       "      <td>98178</td>\n",
       "      <td>1340</td>\n",
       "      <td>5650</td>\n",
       "    </tr>\n",
       "    <tr>\n",
       "      <th>1</th>\n",
       "      <td>538000.0</td>\n",
       "      <td>3</td>\n",
       "      <td>2.25</td>\n",
       "      <td>2570</td>\n",
       "      <td>7242</td>\n",
       "      <td>2.0</td>\n",
       "      <td>0.0</td>\n",
       "      <td>0.0</td>\n",
       "      <td>3</td>\n",
       "      <td>7</td>\n",
       "      <td>2170</td>\n",
       "      <td>400.0</td>\n",
       "      <td>1951</td>\n",
       "      <td>1991.0</td>\n",
       "      <td>98125</td>\n",
       "      <td>1690</td>\n",
       "      <td>7639</td>\n",
       "    </tr>\n",
       "    <tr>\n",
       "      <th>2</th>\n",
       "      <td>180000.0</td>\n",
       "      <td>2</td>\n",
       "      <td>1.00</td>\n",
       "      <td>770</td>\n",
       "      <td>10000</td>\n",
       "      <td>1.0</td>\n",
       "      <td>0.0</td>\n",
       "      <td>0.0</td>\n",
       "      <td>3</td>\n",
       "      <td>6</td>\n",
       "      <td>770</td>\n",
       "      <td>0.0</td>\n",
       "      <td>1933</td>\n",
       "      <td>NaN</td>\n",
       "      <td>98028</td>\n",
       "      <td>2720</td>\n",
       "      <td>8062</td>\n",
       "    </tr>\n",
       "    <tr>\n",
       "      <th>3</th>\n",
       "      <td>604000.0</td>\n",
       "      <td>4</td>\n",
       "      <td>3.00</td>\n",
       "      <td>1960</td>\n",
       "      <td>5000</td>\n",
       "      <td>1.0</td>\n",
       "      <td>0.0</td>\n",
       "      <td>0.0</td>\n",
       "      <td>5</td>\n",
       "      <td>7</td>\n",
       "      <td>1050</td>\n",
       "      <td>910.0</td>\n",
       "      <td>1965</td>\n",
       "      <td>0.0</td>\n",
       "      <td>98136</td>\n",
       "      <td>1360</td>\n",
       "      <td>5000</td>\n",
       "    </tr>\n",
       "    <tr>\n",
       "      <th>4</th>\n",
       "      <td>510000.0</td>\n",
       "      <td>3</td>\n",
       "      <td>2.00</td>\n",
       "      <td>1680</td>\n",
       "      <td>8080</td>\n",
       "      <td>1.0</td>\n",
       "      <td>0.0</td>\n",
       "      <td>0.0</td>\n",
       "      <td>3</td>\n",
       "      <td>8</td>\n",
       "      <td>1680</td>\n",
       "      <td>0.0</td>\n",
       "      <td>1987</td>\n",
       "      <td>0.0</td>\n",
       "      <td>98074</td>\n",
       "      <td>1800</td>\n",
       "      <td>7503</td>\n",
       "    </tr>\n",
       "  </tbody>\n",
       "</table>\n",
       "</div>"
      ],
      "text/plain": [
       "      price  bedrooms  bathrooms  sqft_living  sqft_lot  floors  waterfront  \\\n",
       "0  221900.0         3       1.00         1180      5650     1.0         NaN   \n",
       "1  538000.0         3       2.25         2570      7242     2.0         0.0   \n",
       "2  180000.0         2       1.00          770     10000     1.0         0.0   \n",
       "3  604000.0         4       3.00         1960      5000     1.0         0.0   \n",
       "4  510000.0         3       2.00         1680      8080     1.0         0.0   \n",
       "\n",
       "   view  condition  grade  sqft_above sqft_basement  yr_built  yr_renovated  \\\n",
       "0   0.0          3      7        1180           0.0      1955           0.0   \n",
       "1   0.0          3      7        2170         400.0      1951        1991.0   \n",
       "2   0.0          3      6         770           0.0      1933           NaN   \n",
       "3   0.0          5      7        1050         910.0      1965           0.0   \n",
       "4   0.0          3      8        1680           0.0      1987           0.0   \n",
       "\n",
       "   zipcode  sqft_living15  sqft_lot15  \n",
       "0    98178           1340        5650  \n",
       "1    98125           1690        7639  \n",
       "2    98028           2720        8062  \n",
       "3    98136           1360        5000  \n",
       "4    98074           1800        7503  "
      ]
     },
     "execution_count": 4,
     "metadata": {},
     "output_type": "execute_result"
    }
   ],
   "source": [
    "df.head()"
   ]
  },
  {
   "cell_type": "code",
   "execution_count": 5,
   "metadata": {
    "ExecuteTime": {
     "end_time": "2021-05-29T18:48:22.599539Z",
     "start_time": "2021-05-29T18:48:22.570508Z"
    }
   },
   "outputs": [
    {
     "name": "stdout",
     "output_type": "stream",
     "text": [
      "<class 'pandas.core.frame.DataFrame'>\n",
      "RangeIndex: 21597 entries, 0 to 21596\n",
      "Data columns (total 17 columns):\n",
      " #   Column         Non-Null Count  Dtype  \n",
      "---  ------         --------------  -----  \n",
      " 0   price          21597 non-null  float64\n",
      " 1   bedrooms       21597 non-null  int64  \n",
      " 2   bathrooms      21597 non-null  float64\n",
      " 3   sqft_living    21597 non-null  int64  \n",
      " 4   sqft_lot       21597 non-null  int64  \n",
      " 5   floors         21597 non-null  float64\n",
      " 6   waterfront     19221 non-null  float64\n",
      " 7   view           21534 non-null  float64\n",
      " 8   condition      21597 non-null  int64  \n",
      " 9   grade          21597 non-null  int64  \n",
      " 10  sqft_above     21597 non-null  int64  \n",
      " 11  sqft_basement  21597 non-null  object \n",
      " 12  yr_built       21597 non-null  int64  \n",
      " 13  yr_renovated   17755 non-null  float64\n",
      " 14  zipcode        21597 non-null  int64  \n",
      " 15  sqft_living15  21597 non-null  int64  \n",
      " 16  sqft_lot15     21597 non-null  int64  \n",
      "dtypes: float64(6), int64(10), object(1)\n",
      "memory usage: 2.8+ MB\n"
     ]
    }
   ],
   "source": [
    "# Display DataFrame Infro\n",
    "df.info()"
   ]
  },
  {
   "cell_type": "code",
   "execution_count": 6,
   "metadata": {
    "ExecuteTime": {
     "end_time": "2021-05-29T18:48:22.615511Z",
     "start_time": "2021-05-29T18:48:22.602506Z"
    }
   },
   "outputs": [
    {
     "name": "stdout",
     "output_type": "stream",
     "text": [
      "waterfront      2376\n",
      "view              63\n",
      "yr_renovated    3842\n",
      "dtype: int64 \n",
      "Total: 21597\n"
     ]
    }
   ],
   "source": [
    "# Check for columns with null values (remember strings/objects are not counted here)\n",
    "res = df.isna().sum()\n",
    "print(res[res>0],'\\nTotal:',len(df))\n",
    "# Waterfront, view, yr_renovated have missing values"
   ]
  },
  {
   "cell_type": "markdown",
   "metadata": {},
   "source": [
    "## Fill in null values and recast variables for EDA\n",
    "- From examining the df.info and df.isna().sum(), there is 1 numerical data column that is currently text/object data type. \n",
    "    - I will address these first since they would be excluded from preliminary visualizations.\n",
    "- There are also null values to address in waterfront, view, and yr_renovated\n",
    "- The Date column will be recast as datetime"
   ]
  },
  {
   "cell_type": "markdown",
   "metadata": {},
   "source": [
    "### zipcode"
   ]
  },
  {
   "cell_type": "code",
   "execution_count": 7,
   "metadata": {
    "ExecuteTime": {
     "end_time": "2021-05-29T18:48:22.631506Z",
     "start_time": "2021-05-29T18:48:22.618511Z"
    }
   },
   "outputs": [],
   "source": [
    "# Recast zipcode as a category\n",
    "df['zipcode'] = df['zipcode'].astype('category')"
   ]
  },
  {
   "cell_type": "markdown",
   "metadata": {},
   "source": [
    "### sqft_basement"
   ]
  },
  {
   "cell_type": "code",
   "execution_count": 8,
   "metadata": {
    "ExecuteTime": {
     "end_time": "2021-05-29T18:48:22.662508Z",
     "start_time": "2021-05-29T18:48:22.635507Z"
    },
    "scrolled": false
   },
   "outputs": [
    {
     "name": "stdout",
     "output_type": "stream",
     "text": [
      "Column: df['sqft_basement']':\n",
      "dtype: object\n",
      "isna: 0 out of 21597 - 0.0%\n",
      "\n",
      "Unique non-na values:\n",
      "0.0       12826\n",
      "?           454\n",
      "600.0       217\n",
      "500.0       209\n",
      "700.0       208\n",
      "800.0       201\n",
      "400.0       184\n",
      "1000.0      148\n",
      "900.0       142\n",
      "300.0       142\n",
      "Name: sqft_basement, dtype: int64\n"
     ]
    }
   ],
   "source": [
    "# RECASTING SQFT_BASEMENT\n",
    "# Checking why sqft_basement might be an object:\n",
    "# df['sqft_basement'].value_counts().nlargest(10)\n",
    "check_column(df['sqft_basement'],10)"
   ]
  },
  {
   "cell_type": "markdown",
   "metadata": {},
   "source": [
    "- **sqft_basement is current an object, needs to be converted to int**\n",
    "    - Need to ~~replace~~ drop the 454 '?' values\n",
    "    - There are a lot of 0's, for sqft_basement. Not sure if I should keep them in the dataset. I am for now.\n",
    "    - _Note: I originally replaced the ?'s with 0's, but am re-running the dataset with them dropped altogether._\n"
   ]
  },
  {
   "cell_type": "code",
   "execution_count": 9,
   "metadata": {
    "ExecuteTime": {
     "end_time": "2021-05-29T18:48:22.692537Z",
     "start_time": "2021-05-29T18:48:22.665506Z"
    }
   },
   "outputs": [
    {
     "name": "stdout",
     "output_type": "stream",
     "text": [
      "21597\n",
      "Column: df['sqft_basement']':\n",
      "dtype: float64\n",
      "isna: 0 out of 21143 - 0.0%\n",
      "\n",
      "Unique non-na values:\n",
      "0.0       12826\n",
      "600.0       217\n",
      "500.0       209\n",
      "700.0       208\n",
      "800.0       201\n",
      "400.0       184\n",
      "1000.0      148\n",
      "900.0       142\n",
      "300.0       142\n",
      "200.0       105\n",
      "Name: sqft_basement, dtype: int64\n"
     ]
    }
   ],
   "source": [
    "# Removing rows with ? for sqft_basement and converting to float\n",
    "print(len(df))\n",
    "df['sqft_basement'].replace(to_replace = '?',value=np.nan,inplace=True) #,inplace=True)\n",
    "df.dropna(axis=0,subset=['sqft_basement'],inplace=True)\n",
    "df['sqft_basement'] = df['sqft_basement'].astype('float')\n",
    "df['sqft_basement'].isna().sum()\n",
    "check_column(df['sqft_basement'],10)"
   ]
  },
  {
   "cell_type": "markdown",
   "metadata": {},
   "source": [
    "### View\n",
    "- ~~Replace the 61 null values with appropriate value for data type~~\n",
    "- Drop the 61 view null values"
   ]
  },
  {
   "cell_type": "code",
   "execution_count": 10,
   "metadata": {
    "ExecuteTime": {
     "end_time": "2021-05-29T18:48:22.708508Z",
     "start_time": "2021-05-29T18:48:22.694509Z"
    }
   },
   "outputs": [
    {
     "name": "stdout",
     "output_type": "stream",
     "text": [
      "waterfront      2339\n",
      "view              61\n",
      "yr_renovated    3754\n",
      "dtype: int64\n"
     ]
    }
   ],
   "source": [
    "# Check for columns with null values (remember strings/objects are not counted here)\n",
    "res = df.isna().sum()\n",
    "print(res[res>0])\n",
    "# Waterfront, view, yr_renovated have missing values"
   ]
  },
  {
   "cell_type": "code",
   "execution_count": 11,
   "metadata": {
    "ExecuteTime": {
     "end_time": "2021-05-29T18:48:22.723505Z",
     "start_time": "2021-05-29T18:48:22.709546Z"
    }
   },
   "outputs": [
    {
     "name": "stdout",
     "output_type": "stream",
     "text": [
      "Column: df['view']':\n",
      "dtype: float64\n",
      "isna: 61 out of 21143 - 0.289%\n",
      "\n",
      "Unique non-na values:\n",
      "0.0    19018\n",
      "2.0      930\n",
      "3.0      496\n",
      "1.0      327\n",
      "4.0      311\n",
      "Name: view, dtype: int64\n"
     ]
    }
   ],
   "source": [
    "check_column(df['view'])"
   ]
  },
  {
   "cell_type": "code",
   "execution_count": 12,
   "metadata": {
    "ExecuteTime": {
     "end_time": "2021-05-29T18:48:22.754537Z",
     "start_time": "2021-05-29T18:48:22.726526Z"
    }
   },
   "outputs": [
    {
     "name": "stdout",
     "output_type": "stream",
     "text": [
      "21143\n",
      "21082\n",
      "Column: df['view']':\n",
      "dtype: float64\n",
      "isna: 0 out of 21082 - 0.0%\n",
      "\n",
      "Unique non-na values:\n",
      "0.0    19018\n",
      "2.0      930\n",
      "3.0      496\n",
      "1.0      327\n",
      "4.0      311\n",
      "Name: view, dtype: int64\n"
     ]
    }
   ],
   "source": [
    "# Drop null values from view and re-check column\n",
    "print(len(df))\n",
    "df.dropna(axis=0,subset=['view'],inplace=True)\n",
    "print(len(df))\n",
    "check_column(df['view'])"
   ]
  },
  {
   "cell_type": "code",
   "execution_count": 13,
   "metadata": {
    "ExecuteTime": {
     "end_time": "2021-05-29T18:48:22.769536Z",
     "start_time": "2021-05-29T18:48:22.757509Z"
    }
   },
   "outputs": [
    {
     "data": {
      "text/plain": [
       "0    19018\n",
       "2      930\n",
       "3      496\n",
       "1      327\n",
       "4      311\n",
       "Name: code_view, dtype: int64"
      ]
     },
     "execution_count": 13,
     "metadata": {},
     "output_type": "execute_result"
    }
   ],
   "source": [
    "# Convert view to category and create a coded version called code_view\n",
    "df['view'] = df['view'].astype('category')\n",
    "df['code_view'] = df.view.cat.codes\n",
    "df['code_view'].value_counts()"
   ]
  },
  {
   "cell_type": "code",
   "execution_count": 14,
   "metadata": {
    "ExecuteTime": {
     "end_time": "2021-05-29T18:48:22.785506Z",
     "start_time": "2021-05-29T18:48:22.772508Z"
    }
   },
   "outputs": [],
   "source": [
    "# Drop drop_me variable from main df, save in df_dropped\n",
    "drop_me = 'view'\n",
    "df_dropped[drop_me] = df[drop_me].copy()\n",
    "df.drop(drop_me,axis=1,inplace=True)"
   ]
  },
  {
   "cell_type": "markdown",
   "metadata": {},
   "source": [
    "### Waterfront\n",
    "- Recast as ~~int~~ string\n",
    "- Waterfront has 2339 null values to ~~replace.~~ make into **unordered and coded into \"NaN\"** category\n",
    "    - Note this is string \"NaN\" not np.nan\n"
   ]
  },
  {
   "cell_type": "code",
   "execution_count": 15,
   "metadata": {
    "ExecuteTime": {
     "end_time": "2021-05-29T18:48:22.801506Z",
     "start_time": "2021-05-29T18:48:22.788510Z"
    }
   },
   "outputs": [
    {
     "name": "stdout",
     "output_type": "stream",
     "text": [
      "Column: df['waterfront']':\n",
      "dtype: float64\n",
      "isna: 2333 out of 21082 - 11.066%\n",
      "\n",
      "Unique non-na values:\n",
      "0.0    18608\n",
      "1.0      141\n",
      "Name: waterfront, dtype: int64\n"
     ]
    }
   ],
   "source": [
    "check_column(df['waterfront'])"
   ]
  },
  {
   "cell_type": "code",
   "execution_count": 16,
   "metadata": {
    "ExecuteTime": {
     "end_time": "2021-05-29T18:48:22.817506Z",
     "start_time": "2021-05-29T18:48:22.804512Z"
    }
   },
   "outputs": [],
   "source": [
    "# Convert waterfront to category, replace null values with \"NaN\"' string to make it a category\n",
    "df['waterfront'] = df['waterfront'].astype('category')\n",
    "df['waterfront'].replace(np.nan,\"NaN\",inplace=True)\n",
    "df['waterfront'] = df['waterfront'].astype('category')"
   ]
  },
  {
   "cell_type": "code",
   "execution_count": 17,
   "metadata": {
    "ExecuteTime": {
     "end_time": "2021-05-29T18:48:22.833506Z",
     "start_time": "2021-05-29T18:48:22.820509Z"
    }
   },
   "outputs": [
    {
     "name": "stdout",
     "output_type": "stream",
     "text": [
      "Column: df['waterfront']':\n",
      "dtype: category\n",
      "isna: 2333 out of 21082 - 11.066%\n",
      "\n",
      "Unique non-na values:\n",
      "0.0    18608\n",
      "1.0      141\n",
      "Name: waterfront, dtype: int64\n"
     ]
    }
   ],
   "source": [
    "# df['waterfront'].value_counts()\n",
    "check_column(df['waterfront'],10)"
   ]
  },
  {
   "cell_type": "code",
   "execution_count": 18,
   "metadata": {
    "ExecuteTime": {
     "end_time": "2021-05-29T18:48:22.848506Z",
     "start_time": "2021-05-29T18:48:22.836510Z"
    }
   },
   "outputs": [
    {
     "name": "stdout",
     "output_type": "stream",
     "text": [
      "Column: df['code_waterfront']':\n",
      "dtype: int8\n",
      "isna: 0 out of 21082 - 0.0%\n",
      "\n",
      "Unique non-na values:\n",
      " 0    18608\n",
      "-1     2333\n",
      " 1      141\n",
      "Name: code_waterfront, dtype: int64\n"
     ]
    }
   ],
   "source": [
    "# Turn waterfront into coded column \n",
    "df['code_waterfront'] = df.waterfront.cat.codes\n",
    "check_column(df['code_waterfront'])"
   ]
  },
  {
   "cell_type": "code",
   "execution_count": 19,
   "metadata": {
    "ExecuteTime": {
     "end_time": "2021-05-29T18:48:22.864506Z",
     "start_time": "2021-05-29T18:48:22.850508Z"
    }
   },
   "outputs": [],
   "source": [
    "# Drop drop_me variable from main df, save in df_dropped\n",
    "drop_me = 'waterfront'\n",
    "df_dropped[drop_me] = df[drop_me].copy()\n",
    "df.drop(drop_me,axis=1,inplace=True)"
   ]
  },
  {
   "cell_type": "markdown",
   "metadata": {},
   "source": [
    "### yr_renovated  --> is_reno\n",
    "- yr_renovated has 3754 null values\n",
    "    - Presumably this is because the homes were never renovated\n",
    "    - ~~Will replace with 0.0~~ \n",
    "    - Replace all 0.0's with NaN\n",
    "- Replacing yr_renovated with binary category based on it if has been renovated or not\n",
    "    - Make new column 'is_reno'"
   ]
  },
  {
   "cell_type": "markdown",
   "metadata": {},
   "source": [
    "##### Make is_reno category (0 or 1)"
   ]
  },
  {
   "cell_type": "code",
   "execution_count": 20,
   "metadata": {
    "ExecuteTime": {
     "end_time": "2021-05-29T18:48:22.879522Z",
     "start_time": "2021-05-29T18:48:22.867507Z"
    }
   },
   "outputs": [
    {
     "name": "stdout",
     "output_type": "stream",
     "text": [
      "Column: df['yr_renovated']':\n",
      "dtype: float64\n",
      "isna: 3742 out of 21082 - 17.75%\n",
      "\n",
      "Unique non-na values:\n",
      "0.0       16618\n",
      "2014.0       69\n",
      "2003.0       31\n",
      "2013.0       31\n",
      "2007.0       30\n",
      "2000.0       29\n",
      "2005.0       29\n",
      "1990.0       22\n",
      "2009.0       21\n",
      "2004.0       21\n",
      "Name: yr_renovated, dtype: int64\n"
     ]
    }
   ],
   "source": [
    "check_column(df['yr_renovated'],10)"
   ]
  },
  {
   "cell_type": "code",
   "execution_count": 21,
   "metadata": {
    "ExecuteTime": {
     "end_time": "2021-05-29T18:48:22.895506Z",
     "start_time": "2021-05-29T18:48:22.882507Z"
    }
   },
   "outputs": [
    {
     "name": "stdout",
     "output_type": "stream",
     "text": [
      "Column: df['yr_renovated']':\n",
      "dtype: float64\n",
      "isna: 20360 out of 21082 - 96.575%\n",
      "\n",
      "Unique non-na values:\n",
      "2014.0    69\n",
      "2013.0    31\n",
      "2003.0    31\n",
      "2007.0    30\n",
      "2000.0    29\n",
      "2005.0    29\n",
      "1990.0    22\n",
      "2009.0    21\n",
      "2004.0    21\n",
      "2006.0    20\n",
      "Name: yr_renovated, dtype: int64\n"
     ]
    }
   ],
   "source": [
    "# Fill in 0.0 yr_renovated as np.nan temporarily\n",
    "df['yr_renovated'].replace(0.0,np.nan,inplace=True)\n",
    "\n",
    "# Recheck for null values\n",
    "check_column(df['yr_renovated'],10) #df.isna().sum()"
   ]
  },
  {
   "cell_type": "code",
   "execution_count": 22,
   "metadata": {
    "ExecuteTime": {
     "end_time": "2021-05-29T18:48:22.927505Z",
     "start_time": "2021-05-29T18:48:22.897508Z"
    }
   },
   "outputs": [
    {
     "name": "stdout",
     "output_type": "stream",
     "text": [
      "Column: df['is_reno']':\n",
      "dtype: object\n",
      "isna: 0 out of 21082 - 0.0%\n",
      "\n",
      "Unique non-na values:\n",
      "0    20360\n",
      "1      722\n",
      "Name: is_reno, dtype: int64\n"
     ]
    },
    {
     "name": "stderr",
     "output_type": "stream",
     "text": [
      "<ipython-input-22-b8c3277b6af4>:7: SettingWithCopyWarning: \n",
      "A value is trying to be set on a copy of a slice from a DataFrame\n",
      "\n",
      "See the caveats in the documentation: https://pandas.pydata.org/pandas-docs/stable/user_guide/indexing.html#returning-a-view-versus-a-copy\n",
      "  df['is_reno'][idx_nan] = 0\n",
      "C:\\Users\\bmcca\\anaconda3\\envs\\learn-env-bmc\\lib\\site-packages\\pandas\\core\\indexing.py:670: SettingWithCopyWarning: \n",
      "A value is trying to be set on a copy of a slice from a DataFrame\n",
      "\n",
      "See the caveats in the documentation: https://pandas.pydata.org/pandas-docs/stable/user_guide/indexing.html#returning-a-view-versus-a-copy\n",
      "  iloc._setitem_with_indexer(indexer, value)\n",
      "<ipython-input-22-b8c3277b6af4>:8: SettingWithCopyWarning: \n",
      "A value is trying to be set on a copy of a slice from a DataFrame\n",
      "\n",
      "See the caveats in the documentation: https://pandas.pydata.org/pandas-docs/stable/user_guide/indexing.html#returning-a-view-versus-a-copy\n",
      "  df['is_reno'][idx_notnan] = 1\n"
     ]
    }
   ],
   "source": [
    "# Get indices of all np.nan values to be used for is_reno category below\n",
    "idx_nan = df['yr_renovated'].loc[df['yr_renovated'].isna()].index\n",
    "idx_notnan = df['yr_renovated'].loc[~df['yr_renovated'].isna()].index\n",
    "\n",
    "# Make df['is_reno']\n",
    "df['is_reno'] = df['yr_renovated'].copy\n",
    "df['is_reno'][idx_nan] = 0\n",
    "df['is_reno'][idx_notnan] = 1\n",
    "\n",
    "check_column(df['is_reno'],10) "
   ]
  },
  {
   "cell_type": "code",
   "execution_count": 23,
   "metadata": {
    "ExecuteTime": {
     "end_time": "2021-05-29T18:48:22.942506Z",
     "start_time": "2021-05-29T18:48:22.932507Z"
    }
   },
   "outputs": [],
   "source": [
    "# Drop drop_me variable from main df, save in df_dropped\n",
    "drop_me = 'yr_renovated'\n",
    "df_dropped[drop_me] = df[drop_me].copy()\n",
    "df.drop(drop_me,axis=1,inplace=True)"
   ]
  },
  {
   "cell_type": "markdown",
   "metadata": {},
   "source": [
    "### SCRUBBING THUS FAR...\n",
    "- Removed null values by dropping na from sqft_basement and view. \n",
    "- Converted waterfront to category and made NaN its own separate category (since there were so many null vlaues) \n",
    "- Converted yr_renovated to is_reno simple 0 or 1 value\n",
    "- Recase zipcodes as category since there is no numerical relationship between zipcode values\n",
    "\n",
    "\n",
    "- Next to inspect distributions and scatterplots to identify which numerical columns may be better analyzed as categories\n"
   ]
  },
  {
   "cell_type": "code",
   "execution_count": 24,
   "metadata": {
    "ExecuteTime": {
     "end_time": "2021-05-29T18:48:22.957508Z",
     "start_time": "2021-05-29T18:48:22.945507Z"
    }
   },
   "outputs": [
    {
     "name": "stdout",
     "output_type": "stream",
     "text": [
      "<class 'pandas.core.frame.DataFrame'>\n",
      "Int64Index: 21082 entries, 0 to 21596\n",
      "Data columns (total 17 columns):\n",
      " #   Column           Non-Null Count  Dtype   \n",
      "---  ------           --------------  -----   \n",
      " 0   price            21082 non-null  float64 \n",
      " 1   bedrooms         21082 non-null  int64   \n",
      " 2   bathrooms        21082 non-null  float64 \n",
      " 3   sqft_living      21082 non-null  int64   \n",
      " 4   sqft_lot         21082 non-null  int64   \n",
      " 5   floors           21082 non-null  float64 \n",
      " 6   condition        21082 non-null  int64   \n",
      " 7   grade            21082 non-null  int64   \n",
      " 8   sqft_above       21082 non-null  int64   \n",
      " 9   sqft_basement    21082 non-null  float64 \n",
      " 10  yr_built         21082 non-null  int64   \n",
      " 11  zipcode          21082 non-null  category\n",
      " 12  sqft_living15    21082 non-null  int64   \n",
      " 13  sqft_lot15       21082 non-null  int64   \n",
      " 14  code_view        21082 non-null  int8    \n",
      " 15  code_waterfront  21082 non-null  int8    \n",
      " 16  is_reno          21082 non-null  object  \n",
      "dtypes: category(1), float64(4), int64(9), int8(2), object(1)\n",
      "memory usage: 3.1+ MB\n"
     ]
    }
   ],
   "source": [
    "df.info()"
   ]
  },
  {
   "cell_type": "markdown",
   "metadata": {},
   "source": [
    "## Question 1: Which predictors should be analyzed as continuous data, vs binned/categorical data?\n",
    "\n",
    "#### Identifying numerical data better analyzed as categorical\n",
    "- Will examine histogram distributions and scatter plots vs price for each variable in df.describe()"
   ]
  },
  {
   "cell_type": "code",
   "execution_count": 25,
   "metadata": {
    "ExecuteTime": {
     "end_time": "2021-05-29T18:48:39.635305Z",
     "start_time": "2021-05-29T18:48:22.959505Z"
    },
    "scrolled": false
   },
   "outputs": [
    {
     "data": {
      "image/png": "[encoded data removed]",
      "text/plain": [
       "<Figure size 576x216 with 2 Axes>"
      ]
     },
     "metadata": {
      "needs_background": "light"
     },
     "output_type": "display_data"
    },
    {
     "data": {
      "image/png": "[encoded data removed]",
      "text/plain": [
       "<Figure size 576x216 with 2 Axes>"
      ]
     },
     "metadata": {
      "needs_background": "light"
     },
     "output_type": "display_data"
    },
    {
     "data": {
      "image/png": "[encoded data removed]",
      "text/plain": [
       "<Figure size 576x216 with 2 Axes>"
      ]
     },
     "metadata": {
      "needs_background": "light"
     },
     "output_type": "display_data"
    },
    {
     "data": {
      "image/png": "[encoded data removed]",
      "text/plain": [
       "<Figure size 576x216 with 2 Axes>"
      ]
     },
     "metadata": {
      "needs_background": "light"
     },
     "output_type": "display_data"
    },
    {
     "data": {
      "image/png": "[encoded data removed]",
      "text/plain": [
       "<Figure size 576x216 with 2 Axes>"
      ]
     },
     "metadata": {
      "needs_background": "light"
     },
     "output_type": "display_data"
    },
    {
     "data": {
      "image/png": "[encoded data removed]",
      "text/plain": [
       "<Figure size 576x216 with 2 Axes>"
      ]
     },
     "metadata": {
      "needs_background": "light"
     },
     "output_type": "display_data"
    },
    {
     "data": {
      "image/png": "[encoded data removed]",
      "text/plain": [
       "<Figure size 576x216 with 2 Axes>"
      ]
     },
     "metadata": {
      "needs_background": "light"
     },
     "output_type": "display_data"
    },
    {
     "data": {
      "image/png": "[encoded data removed]",
      "text/plain": [
       "<Figure size 576x216 with 2 Axes>"
      ]
     },
     "metadata": {
      "needs_background": "light"
     },
     "output_type": "display_data"
    },
    {
     "data": {
      "image/png": "[encoded data removed]",
      "text/plain": [
       "<Figure size 576x216 with 2 Axes>"
      ]
     },
     "metadata": {
      "needs_background": "light"
     },
     "output_type": "display_data"
    },
    {
     "data": {
      "image/png": "[encoded data removed]",
      "text/plain": [
       "<Figure size 576x216 with 2 Axes>"
      ]
     },
     "metadata": {
      "needs_background": "light"
     },
     "output_type": "display_data"
    },
    {
     "data": {
      "image/png": "[encoded data removed]",
      "text/plain": [
       "<Figure size 576x216 with 2 Axes>"
      ]
     },
     "metadata": {
      "needs_background": "light"
     },
     "output_type": "display_data"
    },
    {
     "data": {
      "image/png": "[encoded data removed]",
      "text/plain": [
       "<Figure size 576x216 with 2 Axes>"
      ]
     },
     "metadata": {
      "needs_background": "light"
     },
     "output_type": "display_data"
    },
    {
     "data": {
      "image/png": "[encoded data removed]",
      "text/plain": [
       "<Figure size 576x216 with 2 Axes>"
      ]
     },
     "metadata": {
      "needs_background": "light"
     },
     "output_type": "display_data"
    },
    {
     "data": {
      "image/png": "[encoded data removed]",
      "text/plain": [
       "<Figure size 576x216 with 2 Axes>"
      ]
     },
     "metadata": {
      "needs_background": "light"
     },
     "output_type": "display_data"
    },
    {
     "data": {
      "image/png": "[encoded data removed]",
      "text/plain": [
       "<Figure size 576x216 with 2 Axes>"
      ]
     },
     "metadata": {
      "needs_background": "light"
     },
     "output_type": "display_data"
    }
   ],
   "source": [
    "# Plot histograms and scatterplots vs target variable price for all numerical columns in df (show up in .describe())\n",
    "\n",
    "fig = plot_hist_scat(df)\n",
    "# fig = plot_hist_scat_sns(df)\n"
   ]
  },
  {
   "cell_type": "markdown",
   "metadata": {},
   "source": [
    "### Answer 1: How to treat each variable\n",
    "- Notes on histograms and scatterplots\n",
    "#### First, to comment on scatter plots that are indicative of categorical data:\n",
    "- **Columns to be analyzed as categorical data:** (cast as int for now, make sure its .~~astype('category').cat.as_ordered()~~ one-hot coded later before running regression\n",
    "    - Waterfront\n",
    "    - View\n",
    "    - Zipcode\n",
    "- **Columns that are ordinal data.** (e.g. 2 floors is indeed  double 1 floor)\n",
    "    - Floors \n",
    "    - Bedrooms\n",
    "    - Bathrooms\n",
    "    - Condition\n",
    "    - Grade\n",
    "- **Columns that may be best analyzed by binning and casting as categorical data**\n",
    "    - Yr_built\n",
    "    - is_reno\n",
    "        - classified as simply renovated or not.** \n",
    "    - sqft_basement\n",
    "    - sqft_above\n",
    "- **Numerical columns** (that may be best analyzed as such)\n",
    "    - All sqft categories\n",
    "    - price\n",
    "    - Note: moved sqft_basement to binned category to deal with 0's, also added sqft_above to accompany it \n",
    "- **Numerical columns that were dropped**\n",
    "    - id\n",
    "    - Lat\n",
    "    - Long\n",
    "    - Date\n",
    "    - yr_renovated -> is_reno\n",
    "    \n",
    "  \n",
    "#### Second, to comment on distributions\n",
    "- The target variable, price, seems a bit skewed and _may_ be better analyzed as log-transformed. \n",
    "    - Try both log-transformed and unaltered\n",
    "- All sqft columns seem to be skewed and should be transformed. (log)"
   ]
  },
  {
   "cell_type": "markdown",
   "metadata": {},
   "source": [
    "### List of vartypes/names"
   ]
  },
  {
   "cell_type": "markdown",
   "metadata": {},
   "source": [
    "```python\n",
    "# Create tuples with columns names of categorical variables for easy extraction \n",
    "cat_vars = ('waterfront','view','zipcode')\n",
    "ord_vars = ('grade','condition','floors','bedrooms','bathrooms')\n",
    "vars_to_bin = ('yr_built','yr_renovated','sqft_above','sqft_basement')\n",
    "num_vars = ('sqft_living', 'sqft_lot','sqft_living15', 'sqft_lot15')\n",
    "```"
   ]
  },
  {
   "cell_type": "markdown",
   "metadata": {},
   "source": [
    "## COARSE-BINNING Numerical Data \n",
    "- yr_built, yr_renovated\n",
    "- Added sqft_basement due to 0 values\n",
    "- Added sqft_above to accompany basement"
   ]
  },
  {
   "cell_type": "markdown",
   "metadata": {},
   "source": [
    "### binning yr_built"
   ]
  },
  {
   "cell_type": "code",
   "execution_count": 26,
   "metadata": {
    "ExecuteTime": {
     "end_time": "2021-05-29T18:48:39.667305Z",
     "start_time": "2021-05-29T18:48:39.638307Z"
    }
   },
   "outputs": [
    {
     "data": {
      "text/plain": [
       "count    21082.00\n",
       "mean      1971.02\n",
       "std         29.32\n",
       "min       1900.00\n",
       "25%       1952.00\n",
       "50%       1975.00\n",
       "75%       1997.00\n",
       "max       2015.00\n",
       "Name: yr_built, dtype: float64"
      ]
     },
     "execution_count": 26,
     "metadata": {},
     "output_type": "execute_result"
    }
   ],
   "source": [
    "# Check the min and max of the yr variables for binning range\n",
    "df['yr_built'].describe().round(2)"
   ]
  },
  {
   "cell_type": "code",
   "execution_count": 27,
   "metadata": {
    "ExecuteTime": {
     "end_time": "2021-05-29T18:48:39.715304Z",
     "start_time": "2021-05-29T18:48:39.670305Z"
    }
   },
   "outputs": [
    {
     "name": "stdout",
     "output_type": "stream",
     "text": [
      "Column: df['bins_yrbuilt']':\n",
      "dtype: category\n",
      "isna: 0 out of 21082 - 0.0%\n",
      "\n",
      "Unique non-na values:\n",
      "(2000.0, 2010.0]      3354\n",
      "(1960.0, 1970.0]      2484\n",
      "(1950.0, 1960.0]      2411\n",
      "(1970.0, 1980.0]      2351\n",
      "(1980.0, 1990.0]      2297\n",
      "(1990.0, 2000.0]      2085\n",
      "(1940.0, 1950.0]      1806\n",
      "(1920.0, 1930.0]      1142\n",
      "(2010.0, 2020.0]      1066\n",
      "(1899.999, 1910.0]     759\n",
      "(1910.0, 1920.0]       747\n",
      "(1930.0, 1940.0]       580\n",
      "Name: bins_yrbuilt, dtype: int64\n"
     ]
    }
   ],
   "source": [
    "## Bin yr_built then make yr_built category\n",
    "# yr_built min is 1900, max is 2015\n",
    "bins = list(range(1900,2030,10))\n",
    "\n",
    "df['yr_built'].replace(np.nan,0,inplace=True)\n",
    "bins_yrbuilt = pd.cut(df['yr_built'], bins,include_lowest=True) # Cut into bins\n",
    "# check_column(bins_yrbuilt)\n",
    "\n",
    "df['bins_yrbuilt'] = bins_yrbuilt.astype('category').cat.as_ordered() #.cat.as_ordered()\n",
    "\n",
    "# Inspecting the binned data counts\n",
    "check_column(df['bins_yrbuilt'])"
   ]
  },
  {
   "cell_type": "code",
   "execution_count": 28,
   "metadata": {
    "ExecuteTime": {
     "end_time": "2021-05-29T18:48:39.745304Z",
     "start_time": "2021-05-29T18:48:39.718307Z"
    }
   },
   "outputs": [],
   "source": [
    "# Drop original \n",
    "drop_me = 'yr_built'\n",
    "df_dropped[drop_me] = df[drop_me].copy()\n",
    "df.drop(drop_me,axis=1,inplace=True)"
   ]
  },
  {
   "cell_type": "markdown",
   "metadata": {},
   "source": [
    "### binning sqft_basement"
   ]
  },
  {
   "cell_type": "code",
   "execution_count": 29,
   "metadata": {
    "ExecuteTime": {
     "end_time": "2021-05-29T18:48:39.776304Z",
     "start_time": "2021-05-29T18:48:39.748305Z"
    }
   },
   "outputs": [
    {
     "data": {
      "text/plain": [
       "count    21082.000000\n",
       "mean       291.359975\n",
       "std        442.007858\n",
       "min          0.000000\n",
       "25%          0.000000\n",
       "50%          0.000000\n",
       "75%        560.000000\n",
       "max       4820.000000\n",
       "Name: sqft_basement, dtype: float64"
      ]
     },
     "execution_count": 29,
     "metadata": {},
     "output_type": "execute_result"
    }
   ],
   "source": [
    "df['sqft_basement'].describe()"
   ]
  },
  {
   "cell_type": "code",
   "execution_count": 30,
   "metadata": {
    "ExecuteTime": {
     "end_time": "2021-05-29T18:48:39.807305Z",
     "start_time": "2021-05-29T18:48:39.780305Z"
    }
   },
   "outputs": [
    {
     "name": "stdout",
     "output_type": "stream",
     "text": [
      "Column: df['sqft_basement']':\n",
      "dtype: float64\n",
      "isna: 0 out of 21082 - 0.0%\n",
      "\n",
      "Unique non-na values:\n",
      "0.0       12798\n",
      "600.0       216\n",
      "500.0       209\n",
      "700.0       207\n",
      "800.0       201\n",
      "400.0       184\n",
      "1000.0      147\n",
      "900.0       142\n",
      "300.0       140\n",
      "200.0       105\n",
      "Name: sqft_basement, dtype: int64\n"
     ]
    }
   ],
   "source": [
    "check_column(df['sqft_basement'],10)"
   ]
  },
  {
   "cell_type": "code",
   "execution_count": 31,
   "metadata": {
    "ExecuteTime": {
     "end_time": "2021-05-29T18:48:39.853304Z",
     "start_time": "2021-05-29T18:48:39.810305Z"
    }
   },
   "outputs": [
    {
     "name": "stdout",
     "output_type": "stream",
     "text": [
      "Column: df['bins_sqftbasement']':\n",
      "dtype: category\n",
      "isna: 0 out of 21082 - 0.0%\n",
      "\n",
      "Unique non-na values:\n",
      "(-inf, 1.0]         12798\n",
      "(501.0, 1001.0]      3849\n",
      "(1.0, 501.0]         2617\n",
      "(1001.0, 1501.0]     1476\n",
      "(1501.0, 2001.0]      269\n",
      "(2001.0, 2501.0]       57\n",
      "(2501.0, 3001.0]       11\n",
      "(3001.0, 3501.0]        3\n",
      "(4501.0, 5001.0]        1\n",
      "(4001.0, 4501.0]        1\n",
      "(3501.0, 4001.0]        0\n",
      "Name: bins_sqftbasement, dtype: int64\n"
     ]
    }
   ],
   "source": [
    "# Definine bins where bins 0-1 is its own interval\n",
    "bins=[-np.inf]\n",
    "[bins.append(x) for x in range(1,5500,500)]\n",
    "# bins\n",
    "\n",
    "# cut_basement = df['sqft_basement'].replace(0,np.nan)\n",
    "cut_basement = df['sqft_basement'].replace(np.nan,0).copy()\n",
    "# cut_basement = cut_basement.replace('NaN',0)\n",
    "\n",
    "bins_sqftbase = pd.cut(cut_basement, bins=bins, include_lowest=True) # Cut into bins\n",
    "df['bins_sqftbasement'] = bins_sqftbase.copy()\n",
    "\n",
    "# Cast as ordered category\n",
    "df['bins_sqftbasement'] = df['bins_sqftbasement'].astype('category').cat.as_ordered()\n",
    "\n",
    "# Check result\n",
    "check_column(df['bins_sqftbasement'])"
   ]
  },
  {
   "cell_type": "code",
   "execution_count": 32,
   "metadata": {
    "ExecuteTime": {
     "end_time": "2021-05-29T18:48:39.885304Z",
     "start_time": "2021-05-29T18:48:39.857303Z"
    }
   },
   "outputs": [],
   "source": [
    "# Drop original \n",
    "drop_me = 'sqft_basement'\n",
    "df_dropped[drop_me] = df[drop_me].copy()\n",
    "df.drop(drop_me,axis=1,inplace=True)"
   ]
  },
  {
   "cell_type": "markdown",
   "metadata": {},
   "source": [
    "### binning sqft_above"
   ]
  },
  {
   "cell_type": "code",
   "execution_count": 33,
   "metadata": {
    "ExecuteTime": {
     "end_time": "2021-05-29T18:48:39.917304Z",
     "start_time": "2021-05-29T18:48:39.889308Z"
    }
   },
   "outputs": [
    {
     "name": "stdout",
     "output_type": "stream",
     "text": [
      "Column: df['sqft_above']':\n",
      "dtype: int64\n",
      "isna: 0 out of 21082 - 0.0%\n",
      "\n",
      "Unique non-na values:\n",
      "1300    208\n",
      "1010    206\n",
      "1200    197\n",
      "1220    190\n",
      "1140    181\n",
      "1180    174\n",
      "1400    174\n",
      "1340    173\n",
      "1060    173\n",
      "1250    168\n",
      "Name: sqft_above, dtype: int64\n"
     ]
    },
    {
     "data": {
      "text/plain": [
       "count    21082.000000\n",
       "mean      1789.000000\n",
       "std        828.369355\n",
       "min        370.000000\n",
       "25%       1200.000000\n",
       "50%       1560.000000\n",
       "75%       2210.000000\n",
       "max       9410.000000\n",
       "Name: sqft_above, dtype: float64"
      ]
     },
     "execution_count": 33,
     "metadata": {},
     "output_type": "execute_result"
    }
   ],
   "source": [
    "check_column(df['sqft_above'],10)\n",
    "df['sqft_above'].describe()"
   ]
  },
  {
   "cell_type": "code",
   "execution_count": 34,
   "metadata": {
    "ExecuteTime": {
     "end_time": "2021-05-29T18:48:39.948303Z",
     "start_time": "2021-05-29T18:48:39.920305Z"
    }
   },
   "outputs": [
    {
     "name": "stdout",
     "output_type": "stream",
     "text": [
      "Column: df['sqft_above']':\n",
      "dtype: category\n",
      "isna: 0 out of 21082 - 0.0%\n",
      "\n",
      "Unique non-na values:\n",
      "(1000.0, 1500.0]    7352\n",
      "(1500.0, 2000.0]    4686\n",
      "(2000.0, 2500.0]    2764\n",
      "(500.0, 1000.0]     2488\n",
      "(2500.0, 3000.0]    1815\n",
      "(3000.0, 3500.0]    1088\n",
      "(3500.0, 4000.0]     466\n",
      "(4000.0, 4500.0]     239\n",
      "(4500.0, 5000.0]      80\n",
      "(5000.0, 5500.0]      42\n",
      "(-0.001, 500.0]       19\n",
      "(6000.0, 6500.0]      16\n",
      "(5500.0, 6000.0]      14\n",
      "(6500.0, 7000.0]       4\n",
      "(7500.0, 8000.0]       3\n",
      "(8500.0, 9000.0]       2\n",
      "(7000.0, 7500.0]       2\n",
      "(8000.0, 8500.0]       1\n",
      "(9000.0, 9500.0]       1\n",
      "Name: sqft_above, dtype: int64\n"
     ]
    }
   ],
   "source": [
    "# sqft_above \n",
    "# Bins to cover range seen above in .describe\n",
    "bins = list(range(0,9501,500))\n",
    "\n",
    "# cut_above = df['sqft_above'].replace(0,np.nan)\n",
    "bins_sqftabove = pd.cut(df['sqft_above'], bins=bins, include_lowest=True) # Cut into bins, including left edge \n",
    "check_column(bins_sqftabove)"
   ]
  },
  {
   "cell_type": "code",
   "execution_count": 35,
   "metadata": {
    "ExecuteTime": {
     "end_time": "2021-05-29T18:48:39.979305Z",
     "start_time": "2021-05-29T18:48:39.952306Z"
    }
   },
   "outputs": [
    {
     "name": "stdout",
     "output_type": "stream",
     "text": [
      "Column: df['bins_sqftabove']':\n",
      "dtype: category\n",
      "isna: 0 out of 21082 - 0.0%\n",
      "\n",
      "Unique non-na values:\n",
      "(1000.0, 1500.0]    7352\n",
      "(1500.0, 2000.0]    4686\n",
      "(2000.0, 2500.0]    2764\n",
      "(500.0, 1000.0]     2488\n",
      "(2500.0, 3000.0]    1815\n",
      "(3000.0, 3500.0]    1088\n",
      "(3500.0, 4000.0]     466\n",
      "(4000.0, 4500.0]     239\n",
      "(4500.0, 5000.0]      80\n",
      "(5000.0, 5500.0]      42\n",
      "(-0.001, 500.0]       19\n",
      "(6000.0, 6500.0]      16\n",
      "(5500.0, 6000.0]      14\n",
      "(6500.0, 7000.0]       4\n",
      "(7500.0, 8000.0]       3\n",
      "(8500.0, 9000.0]       2\n",
      "(7000.0, 7500.0]       2\n",
      "(8000.0, 8500.0]       1\n",
      "(9000.0, 9500.0]       1\n",
      "Name: bins_sqftabove, dtype: int64\n"
     ]
    }
   ],
   "source": [
    "bins_sqftabove.replace(np.nan,'NaN',inplace=True)\n",
    "df['bins_sqftabove']=bins_sqftabove.astype('category').cat.as_ordered()\n",
    "\n",
    "check_column(df['bins_sqftabove'])"
   ]
  },
  {
   "cell_type": "code",
   "execution_count": 36,
   "metadata": {
    "ExecuteTime": {
     "end_time": "2021-05-29T18:48:39.994303Z",
     "start_time": "2021-05-29T18:48:39.982306Z"
    }
   },
   "outputs": [],
   "source": [
    "# Drop original \n",
    "drop_me = 'sqft_above'\n",
    "df_dropped[drop_me] = df[drop_me].copy()\n",
    "df.drop(drop_me,axis=1,inplace=True)"
   ]
  },
  {
   "cell_type": "markdown",
   "metadata": {},
   "source": [
    "##  CHECKING FOR MULTICOLLINEARITY\n",
    "### Question 2:Which predictors are closely related and should be dropped?\n"
   ]
  },
  {
   "cell_type": "code",
   "execution_count": 37,
   "metadata": {
    "ExecuteTime": {
     "end_time": "2021-05-29T18:48:40.679304Z",
     "start_time": "2021-05-29T18:48:39.997305Z"
    }
   },
   "outputs": [
    {
     "ename": "ModuleNotFoundError",
     "evalue": "No module named 'fsds_100719'",
     "output_type": "error",
     "traceback": [
      "\u001b[1;31m---------------------------------------------------------------------------\u001b[0m",
      "\u001b[1;31mModuleNotFoundError\u001b[0m                       Traceback (most recent call last)",
      "\u001b[1;32m<ipython-input-37-a52603c50552>\u001b[0m in \u001b[0;36m<module>\u001b[1;34m\u001b[0m\n\u001b[1;32m----> 1\u001b[1;33m \u001b[1;32mfrom\u001b[0m \u001b[0mfsds_100719\u001b[0m \u001b[1;32mimport\u001b[0m \u001b[0mihelp\u001b[0m\u001b[1;33m\u001b[0m\u001b[1;33m\u001b[0m\u001b[0m\n\u001b[0m",
      "\u001b[1;31mModuleNotFoundError\u001b[0m: No module named 'fsds_100719'"
     ]
    }
   ],
   "source": [
    "from fsds_100719 import ihelp"
   ]
  },
  {
   "cell_type": "code",
   "execution_count": null,
   "metadata": {
    "ExecuteTime": {
     "end_time": "2021-05-29T18:48:40.684303Z",
     "start_time": "2021-05-29T18:48:18.589Z"
    }
   },
   "outputs": [],
   "source": [
    "ihelp(multiplot)"
   ]
  },
  {
   "cell_type": "code",
   "execution_count": null,
   "metadata": {
    "ExecuteTime": {
     "end_time": "2021-05-29T18:48:40.686304Z",
     "start_time": "2021-05-29T18:48:18.597Z"
    }
   },
   "outputs": [],
   "source": [
    "\n",
    "df.drop('price',axis=1).corr().round(2)"
   ]
  },
  {
   "cell_type": "code",
   "execution_count": null,
   "metadata": {
    "ExecuteTime": {
     "end_time": "2021-05-29T18:48:40.687304Z",
     "start_time": "2021-05-29T18:48:18.603Z"
    }
   },
   "outputs": [],
   "source": [
    "# Plot correlation  heatmaps for all data \n",
    "# pause\n",
    "to_drop = ['price']\n",
    "# multiplot(df.drop(to_drop,axis=1))\n",
    "multiplot(df)"
   ]
  },
  {
   "cell_type": "markdown",
   "metadata": {},
   "source": [
    "### Answer 2: \n",
    "- Sqft_living is highly correlated with sqft_living15 and grade,\n",
    "- These correlations make sense sense since neighborhoods probably have similar construction.\n",
    "    - The r values are ~0.75 (threshold) and have sufficient intuitive rationale to keep. "
   ]
  },
  {
   "cell_type": "markdown",
   "metadata": {},
   "source": [
    "# EXPLORE:\n",
    "- Re-examining the basic stats and distributions of the data.\n",
    "- Decide on transformations to perform\n",
    "    - Normalize afterwards.\n",
    "- Visually examine for possible relationships "
   ]
  },
  {
   "cell_type": "markdown",
   "metadata": {},
   "source": [
    "## EDA before normalization/transformation"
   ]
  },
  {
   "cell_type": "markdown",
   "metadata": {},
   "source": [
    "### Examine basic descriptive stats"
   ]
  },
  {
   "cell_type": "code",
   "execution_count": null,
   "metadata": {
    "ExecuteTime": {
     "end_time": "2021-05-29T18:48:40.688305Z",
     "start_time": "2021-05-29T18:48:18.612Z"
    }
   },
   "outputs": [],
   "source": [
    "df.head()"
   ]
  },
  {
   "cell_type": "code",
   "execution_count": null,
   "metadata": {
    "ExecuteTime": {
     "end_time": "2021-05-29T18:48:40.690304Z",
     "start_time": "2021-05-29T18:48:18.621Z"
    }
   },
   "outputs": [],
   "source": [
    "df.describe()"
   ]
  },
  {
   "cell_type": "markdown",
   "metadata": {},
   "source": [
    "#### Notes on basic statistics\n",
    "- Bedrooms has some very clear outliers (max is 33, but 75% quartile is only 4)\n",
    "    - May want to remove outliers after Z-scoring (Absolute Z-score > 3)\n",
    "- Same with bathrooms (8 is max, 75% quartile is only 2.5)\n",
    "- Same with sqft_living (max 13540, 75% quartile = 2550) \n",
    "- Also same with sqft_lot15, sqftliving15"
   ]
  },
  {
   "cell_type": "markdown",
   "metadata": {},
   "source": [
    "### Visualizing numerical data\n",
    "- Distributions and scatterplots\n",
    "- Note: May want to cast all categoricals as strings/categories for visualization\n",
    "    - Keeping as is for now"
   ]
  },
  {
   "cell_type": "code",
   "execution_count": null,
   "metadata": {
    "ExecuteTime": {
     "end_time": "2021-05-29T18:48:40.691303Z",
     "start_time": "2021-05-29T18:48:18.628Z"
    }
   },
   "outputs": [],
   "source": [
    "from fsds_100719.imports import *\n",
    "import warnings\n",
    "warnings.filterwarnings('ignore')"
   ]
  },
  {
   "cell_type": "code",
   "execution_count": null,
   "metadata": {
    "ExecuteTime": {
     "end_time": "2021-05-29T18:48:40.693304Z",
     "start_time": "2021-05-29T18:48:18.636Z"
    },
    "scrolled": true
   },
   "outputs": [],
   "source": [
    "# fs.ds.reload()\n",
    "# stop\n",
    "fs.ihelp(plot_hist_scat_sns)"
   ]
  },
  {
   "cell_type": "code",
   "execution_count": null,
   "metadata": {
    "ExecuteTime": {
     "end_time": "2021-05-29T18:48:40.694304Z",
     "start_time": "2021-05-29T18:48:18.643Z"
    },
    "scrolled": false
   },
   "outputs": [],
   "source": [
    "# INSPECTING NUMERICAL DATA DISTPLOTS + KDE\n",
    "plot_hist_scat_sns(df,style='seaborn-poster',figsize=(10,6))"
   ]
  },
  {
   "cell_type": "markdown",
   "metadata": {},
   "source": [
    "#### Notes on distplots \n",
    "- Essentialy all numerical data seems to be at least slightly skewed.\n",
    "    - Do not think it is sufficient to log-transform the data and lose model interpretability"
   ]
  },
  {
   "cell_type": "markdown",
   "metadata": {},
   "source": [
    "### Visualizing categorical data "
   ]
  },
  {
   "cell_type": "code",
   "execution_count": null,
   "metadata": {
    "ExecuteTime": {
     "end_time": "2021-05-29T18:48:40.696303Z",
     "start_time": "2021-05-29T18:48:18.650Z"
    }
   },
   "outputs": [],
   "source": [
    "# Define list of all categorical variables \n",
    "list_cat_vars = ['zipcode', 'bins_yrbuilt', 'bins_sqftbasement', 'bins_sqftabove','condition','grade','code_view','code_waterfront']"
   ]
  },
  {
   "cell_type": "code",
   "execution_count": null,
   "metadata": {
    "ExecuteTime": {
     "end_time": "2021-05-29T18:48:40.697304Z",
     "start_time": "2021-05-29T18:48:18.658Z"
    },
    "scrolled": false
   },
   "outputs": [],
   "source": [
    "# # Plotting scatterplots and boxplots for categorical data\n",
    "# # plt.style.use('seaborn')\n",
    "# list_cat_vars = ['zipcode', 'bins_yrbuilt', 'bins_sqftbasement', 'bins_sqftabove','condition','grade','code_view','code_waterfront']\n",
    "# def plot_cat_box_sns(df,target='price',figsize=(12,6)):\n",
    "#     for column in list_cat_vars:\n",
    "\n",
    "\n",
    "\n",
    "#         ## Create figure and axes\n",
    "#         fig, (ax1,ax2) = plt.subplots(ncols=2,figsize=figsize)\n",
    "\n",
    "#         # ax1.set_title('Price vs ',column,' scatter plot')\n",
    "#         title1=column+' scatter'\n",
    "#         ax1.set_title(title1.title())\n",
    "#         ax1.set_xlabel(column)\n",
    "#         ax1.set_ylabel(target)\n",
    "        \n",
    "        \n",
    "#         sns.stripplot(x=df[column],y=df[target],marker='.',ax=ax1) \n",
    "\n",
    "#         sns.boxplot(x=df[column],y=df[target],ax=ax2) \n",
    "\n",
    "#         ## Create keywords for .set_xticklabels()\n",
    "#         tick_kwds = dict(horizontalalignment='right', \n",
    "#                          fontweight='light', \n",
    "#                          fontsize='x-large',   \n",
    "#                          rotation=45)\n",
    "#         ax1.set_xticklabels(ax1.get_xticklabels(),**tick_kwds)\n",
    "#         ax2.set_xticklabels(ax1.get_xticklabels(),**tick_kwds)\n",
    "\n",
    "#         title2=column+' boxplot'\n",
    "#         ax2.set_title(title2.title())\n",
    "#         ax2.set_xlabel(column)\n",
    "#         ax2.set_ylabel(target)\n",
    "#         fig.tight_layout()\n",
    "\n",
    "\n",
    "plot_cat_box_sns(df)"
   ]
  },
  {
   "cell_type": "markdown",
   "metadata": {},
   "source": [
    "### Question/Answer 3A: Which categorical variables show the greatest potential as predictors?\n",
    "\n",
    "#### ANSWER 3A:\n",
    "**Notes on categorical scatter plots**\n",
    "- grade seems to be strongly related to price (notice how the whole range of values seems to increase in price at higher grades.\n",
    "- Zipcodes look to differ quite a bit in terms of price.\n",
    "- Condition looks to be highly related to price (at least above condition level 2)\n",
    "- View does not look as strongly related to price as I expected.\n",
    "- Floors do not seem as related as expected\n",
    "- yr_built may have some relationship with price\n",
    "- yr_renovated has somewhat of a trend, but recent renovations buck this trend"
   ]
  },
  {
   "cell_type": "code",
   "execution_count": null,
   "metadata": {
    "ExecuteTime": {
     "end_time": "2021-05-29T18:48:40.698304Z",
     "start_time": "2021-05-29T18:48:18.665Z"
    }
   },
   "outputs": [],
   "source": [
    "# # INSPECTING REGRESSION PLOTS\n",
    "# plt.style.use('seaborn')\n",
    "\n",
    "# plot_vars=df.describe().columns\n",
    "\n",
    "# for column in plot_vars:\n",
    "# #     df_plot=df[column]\n",
    "# #     df_plot = df.loc[df[column]>0]\n",
    "#     plot= sns.regplot(df[column], df['price'],robust=False,marker='.') #kde=True,label = column+' histogram')\n",
    "# #     plot = sns.boxplot(df[column],df['price'])\n",
    "#     title = column+' linear regression'\n",
    "#     plt.title(title.title())\n",
    "# #     plt.legend()\n",
    "#     plt.show()\n"
   ]
  },
  {
   "cell_type": "code",
   "execution_count": null,
   "metadata": {
    "ExecuteTime": {
     "end_time": "2021-05-29T18:48:40.700303Z",
     "start_time": "2021-05-29T18:48:18.670Z"
    }
   },
   "outputs": [],
   "source": [
    "df.describe().round(2)"
   ]
  },
  {
   "cell_type": "markdown",
   "metadata": {},
   "source": [
    "# [SCRUB-2] NORMALIZING & TRANSFORMING \n",
    "**Graphing raw vs normalized results to decide if dataset should be normalized**\n",
    "- ~~log-transform and z-score numerical data.~~    \n",
    "- Am using detect_outlier function to apply Tukey's method for outlier remnoval based on IQR"
   ]
  },
  {
   "cell_type": "markdown",
   "metadata": {},
   "source": [
    "## Outlier Removal - visualizing\n"
   ]
  },
  {
   "cell_type": "markdown",
   "metadata": {},
   "source": [
    "- Will be using pre-defined function detect_outliers(df,n,var_name)\n",
    "    - Returns index of rows containing outliers based in IQR"
   ]
  },
  {
   "cell_type": "code",
   "execution_count": null,
   "metadata": {
    "ExecuteTime": {
     "end_time": "2021-05-29T18:48:40.701314Z",
     "start_time": "2021-05-29T18:48:18.677Z"
    }
   },
   "outputs": [],
   "source": [
    "df.info()"
   ]
  },
  {
   "cell_type": "code",
   "execution_count": null,
   "metadata": {
    "ExecuteTime": {
     "end_time": "2021-05-29T18:48:40.702303Z",
     "start_time": "2021-05-29T18:48:18.683Z"
    }
   },
   "outputs": [],
   "source": [
    "# Define variables to plot vs tukey-cleaned outliers \n",
    "vars_to_norm = ['sqft_living','sqft_lot','sqft_living15','sqft_lot15','bedrooms','bathrooms']\n",
    "df.describe().columns"
   ]
  },
  {
   "cell_type": "code",
   "execution_count": null,
   "metadata": {
    "ExecuteTime": {
     "end_time": "2021-05-29T18:48:40.704305Z",
     "start_time": "2021-05-29T18:48:18.687Z"
    },
    "scrolled": false
   },
   "outputs": [],
   "source": [
    "from collections import Counter\n",
    "from sklearn.preprocessing import RobustScaler\n",
    "robscaler = RobustScaler()\n",
    "\n",
    "# vars_to_norm = ['sqft_living','sqft_lot','sqft_living15','sqft_lot15','bedrooms','bathrooms']\n",
    "norm_results = [['column','K_square','p-val']]\n",
    "\n",
    "# Graph all potential normalizedvariables\n",
    "for var_name in df.describe():\n",
    "\n",
    "    var = df[var_name]\n",
    "    fig = plt.figure(figsize=(12,4))\n",
    "    ax1 = fig.add_subplot(121)\n",
    "    ax1 = sns.distplot(var, norm_hist=True) \n",
    "    ax1.set_title('Raw '+var_name)\n",
    "    #robscaler.fit_transform(np.array(var).reshape(-1,1)\n",
    "    \n",
    "    # OUTLIER REMOVAL\n",
    "    outliers_to_drop = detect_outliers(df,0,[var_name])\n",
    "    var_clean =df[var_name].drop(outliers_to_drop)\n",
    "    \n",
    "    ax2 = fig.add_subplot(122)\n",
    "    \n",
    "    ax2 = sns.distplot(var_clean,norm_hist=True)\n",
    "#     ax2 = sns.distplot(robscaler.fit_transform(np.array(var_clean).reshape(-1,1)),norm_hist=True)\n",
    "    \n",
    "    ax2.set_title('Tukey Outliers Removed '+var_name) #+var)\n",
    "    ax2.set_xlabel('Scale')\n",
    "    stat, p = normtest(var_clean)\n",
    "#     norm_results.append([var_clean,stat, p])\n",
    "# norm_results = pd.DataFrame(norm_results[2:],columns=norm_results[0])#,index='columns')\n",
    "# norm_results"
   ]
  },
  {
   "cell_type": "markdown",
   "metadata": {},
   "source": [
    "### Question/Answer 3B: Does removal of outliers improve the distrubtions?\n",
    "\n",
    "- The data is skewed by outliers.\n",
    "    - Comparing it to IQR-method outlier elimination reveals much improved results\n",
    "    - The distributions look much more reasonabile with outliers removed."
   ]
  },
  {
   "cell_type": "markdown",
   "metadata": {},
   "source": [
    "## REMOVING OUTLIERS"
   ]
  },
  {
   "cell_type": "markdown",
   "metadata": {},
   "source": [
    "#### Recall stats observations from beginning of EDA:\n",
    "> #### Notes on basic statistics\n",
    ">- Bedrooms has some very clear outliers (max is 33, but 75% quartile is only 4)\n",
    ">    - May want to remove outliers after Z-scoring (Absolute Z-score > 3)\n",
    ">- Same with bathrooms (8 is max, 75% quartile is only 2.5)\n",
    ">- Same with sqft_living (max 13540, 75% quartile = 2550) \n",
    ">- Also same with sqft_lot15, sqftliving15"
   ]
  },
  {
   "cell_type": "code",
   "execution_count": null,
   "metadata": {
    "ExecuteTime": {
     "end_time": "2021-05-29T18:48:40.705304Z",
     "start_time": "2021-05-29T18:48:18.694Z"
    }
   },
   "outputs": [],
   "source": [
    "# DEFINE VARIABLES TO GET THE OUTLIERS FOR (based on observations)\n",
    "# vars_to_norm = ['price','bedrooms''sqft_living','sqft_lot','sqft_living15','sqft_lot15','bedrooms','bathrooms'\n",
    "vars_to_clean = ['price','bedrooms','sqft_living','bathrooms','sqft_living15']"
   ]
  },
  {
   "cell_type": "code",
   "execution_count": null,
   "metadata": {
    "ExecuteTime": {
     "end_time": "2021-05-29T18:48:40.707304Z",
     "start_time": "2021-05-29T18:48:18.698Z"
    }
   },
   "outputs": [],
   "source": [
    "# GET OUTLIER INDICES AND REPORT \n",
    "\n",
    "outliers_to_drop = {}\n",
    "\n",
    "for col in vars_to_clean:\n",
    "    outliers_to_drop[col] = detect_outliers(df,0,[col])\n",
    "# outliers_to_drop.keys()\n",
    "# outliers_to_drop.values()\n",
    "\n",
    "# Print out # of outliers\n",
    "for k, v in outliers_to_drop.items():\n",
    "    print(f'col: {k} has {len(v)} outliers. ({round(len(v)/len(df),2)*100}%)' )"
   ]
  },
  {
   "cell_type": "markdown",
   "metadata": {},
   "source": [
    "### Filling in df_norm"
   ]
  },
  {
   "cell_type": "code",
   "execution_count": null,
   "metadata": {
    "ExecuteTime": {
     "end_time": "2021-05-29T18:48:40.709305Z",
     "start_time": "2021-05-29T18:48:18.704Z"
    }
   },
   "outputs": [],
   "source": [
    "# Intialize df_norm with df's values\n",
    "df_norm=df.copy()"
   ]
  },
  {
   "cell_type": "code",
   "execution_count": null,
   "metadata": {
    "ExecuteTime": {
     "end_time": "2021-05-29T18:48:40.710302Z",
     "start_time": "2021-05-29T18:48:18.709Z"
    }
   },
   "outputs": [],
   "source": [
    "# Iterate throught outliers_to_drop dictionary to replace outliers with np.nan\n",
    "for k, v in outliers_to_drop.items():\n",
    "    df_norm.loc[v,k] = np.nan # axis=0,inplace=True)\n",
    "\n",
    "# Display null values\n",
    "df_norm.isna().sum()"
   ]
  },
  {
   "cell_type": "code",
   "execution_count": null,
   "metadata": {
    "ExecuteTime": {
     "end_time": "2021-05-29T18:48:40.712303Z",
     "start_time": "2021-05-29T18:48:18.715Z"
    }
   },
   "outputs": [],
   "source": [
    "# REMOVING OUTLIERS FROM PRICE\n",
    "drop_col = 'price'\n",
    "\n",
    "print(f'for {drop_col}:')\n",
    "print(f'# of intial rows: {len(df_norm)}')\n",
    "df_norm.dropna(subset=['price'],inplace=True)\n",
    "print(f'# after dropping rows: {len(df_norm)}')\n",
    "print(f'\\nOutliers remaining: \\n{df_norm.isna().sum()}')"
   ]
  },
  {
   "cell_type": "code",
   "execution_count": null,
   "metadata": {
    "ExecuteTime": {
     "end_time": "2021-05-29T18:48:40.713304Z",
     "start_time": "2021-05-29T18:48:18.719Z"
    }
   },
   "outputs": [],
   "source": [
    "# REMOVING OUTLIERS FROM BEDROOMS\n",
    "drop_col = 'bedrooms'\n",
    "\n",
    "print(f'for {drop_col}:')\n",
    "print(f'# of intial rows: {len(df_norm)}')\n",
    "df_norm.dropna(subset=[drop_col],inplace=True)\n",
    "print(f'# after dropping rows: {len(df_norm)}')\n",
    "print(f'\\nOutliers remaining: \\n{df_norm.isna().sum()}')"
   ]
  },
  {
   "cell_type": "code",
   "execution_count": null,
   "metadata": {
    "ExecuteTime": {
     "end_time": "2021-05-29T18:48:40.714304Z",
     "start_time": "2021-05-29T18:48:18.725Z"
    }
   },
   "outputs": [],
   "source": [
    "# REMOVING OUTLIERS FROM PRICE\n",
    "\n",
    "drop_col = 'sqft_living'\n",
    "\n",
    "print(f'for {drop_col}:')\n",
    "print(f'# of intial rows: {len(df_norm)}')\n",
    "df_norm.dropna(subset=[drop_col],inplace=True)\n",
    "print(f'# after dropping rows: {len(df_norm)}')\n",
    "print(f'\\nOutliers remaining: \\n{df_norm.isna().sum()}')"
   ]
  },
  {
   "cell_type": "code",
   "execution_count": null,
   "metadata": {
    "ExecuteTime": {
     "end_time": "2021-05-29T18:48:40.716304Z",
     "start_time": "2021-05-29T18:48:18.730Z"
    }
   },
   "outputs": [],
   "source": [
    "# REMOVING OUTLIERS FROM BATHROOMS\n",
    "drop_col = 'bathrooms'\n",
    "\n",
    "print(f'for {drop_col}:')\n",
    "print(f'# of intial rows: {len(df_norm)}')\n",
    "df_norm.dropna(subset=[drop_col],inplace=True)\n",
    "print(f'# after dropping rows: {len(df_norm)}')\n",
    "print(f'\\nOutliers remaining: \\n{df_norm.isna().sum()}')"
   ]
  },
  {
   "cell_type": "code",
   "execution_count": null,
   "metadata": {
    "ExecuteTime": {
     "end_time": "2021-05-29T18:48:40.717302Z",
     "start_time": "2021-05-29T18:48:18.734Z"
    }
   },
   "outputs": [],
   "source": [
    "drop_col = 'sqft_living15'\n",
    "\n",
    "print(f'for {drop_col}:')\n",
    "print(f'# of intial rows: {len(df_norm)}')\n",
    "df_norm.dropna(subset=[drop_col],inplace=True)\n",
    "print(f'# after dropping rows: {len(df_norm)}')\n",
    "print(f'\\nOutliers remaining: \\n{df_norm.isna().sum()}')"
   ]
  },
  {
   "cell_type": "markdown",
   "metadata": {},
   "source": [
    "## NORMALIZING UNITS (RobustScaler)"
   ]
  },
  {
   "cell_type": "code",
   "execution_count": null,
   "metadata": {
    "ExecuteTime": {
     "end_time": "2021-05-29T18:48:40.718303Z",
     "start_time": "2021-05-29T18:48:18.740Z"
    }
   },
   "outputs": [],
   "source": [
    "# ADDING OUTLIER REMOVAL FROM preprocessing.RobuseScaler\n",
    "from sklearn.preprocessing import RobustScaler\n",
    "\n",
    "robscaler = RobustScaler()\n",
    "robscaler"
   ]
  },
  {
   "cell_type": "code",
   "execution_count": null,
   "metadata": {
    "ExecuteTime": {
     "end_time": "2021-05-29T18:48:40.720303Z",
     "start_time": "2021-05-29T18:48:18.745Z"
    }
   },
   "outputs": [],
   "source": [
    "vars_to_scale = ['sqft_living','sqft_lot','sqft_living15','sqft_lot15','bedrooms','bathrooms']\n",
    "\n",
    "for col in vars_to_scale:\n",
    "            \n",
    "    col_data = np.array(np.array(df_norm[col]))\n",
    "    res = robscaler.fit_transform(col_data.reshape(-1,1)) #,df['price'])\n",
    "    df_norm['sca_'+col] = res.flatten()"
   ]
  },
  {
   "cell_type": "code",
   "execution_count": null,
   "metadata": {
    "ExecuteTime": {
     "end_time": "2021-05-29T18:48:40.721303Z",
     "start_time": "2021-05-29T18:48:18.750Z"
    }
   },
   "outputs": [],
   "source": [
    "# IF DROPPING VARS UNCOMMENT BELOW\n",
    "# df_norm.drop(vars_to_scale,axis=1,inplace=True)"
   ]
  },
  {
   "cell_type": "code",
   "execution_count": null,
   "metadata": {
    "ExecuteTime": {
     "end_time": "2021-05-29T18:48:40.722302Z",
     "start_time": "2021-05-29T18:48:18.754Z"
    }
   },
   "outputs": [],
   "source": [
    "df_norm.info()"
   ]
  },
  {
   "cell_type": "code",
   "execution_count": null,
   "metadata": {
    "ExecuteTime": {
     "end_time": "2021-05-29T18:48:40.724303Z",
     "start_time": "2021-05-29T18:48:18.759Z"
    }
   },
   "outputs": [],
   "source": [
    "df_norm.head()"
   ]
  },
  {
   "cell_type": "markdown",
   "metadata": {},
   "source": [
    "# CHECKING NORMALIZED DATASET"
   ]
  },
  {
   "cell_type": "code",
   "execution_count": 39,
   "metadata": {
    "ExecuteTime": {
     "end_time": "2021-05-29T18:49:31.834684Z",
     "start_time": "2021-05-29T18:49:31.813680Z"
    },
    "scrolled": false
   },
   "outputs": [
    {
     "ename": "NameError",
     "evalue": "name 'df_norm' is not defined",
     "output_type": "error",
     "traceback": [
      "\u001b[1;31m---------------------------------------------------------------------------\u001b[0m",
      "\u001b[1;31mNameError\u001b[0m                                 Traceback (most recent call last)",
      "\u001b[1;32m<ipython-input-39-5dbfc9ea3a42>\u001b[0m in \u001b[0;36m<module>\u001b[1;34m\u001b[0m\n\u001b[0;32m      1\u001b[0m \u001b[1;31m# plt.style.use('fivethirtyeight')\u001b[0m\u001b[1;33m\u001b[0m\u001b[1;33m\u001b[0m\u001b[1;33m\u001b[0m\u001b[0m\n\u001b[1;32m----> 2\u001b[1;33m \u001b[0mplot_hist_scat_sns\u001b[0m\u001b[1;33m(\u001b[0m\u001b[0mdf_norm\u001b[0m\u001b[1;33m)\u001b[0m\u001b[1;33m\u001b[0m\u001b[1;33m\u001b[0m\u001b[0m\n\u001b[0m",
      "\u001b[1;31mNameError\u001b[0m: name 'df_norm' is not defined"
     ]
    }
   ],
   "source": [
    "# plt.style.use('fivethirtyeight')\n",
    "plot_hist_scat_sns(df_norm)"
   ]
  },
  {
   "cell_type": "code",
   "execution_count": 40,
   "metadata": {
    "ExecuteTime": {
     "end_time": "2021-05-29T18:49:32.129675Z",
     "start_time": "2021-05-29T18:49:32.103674Z"
    }
   },
   "outputs": [
    {
     "ename": "NameError",
     "evalue": "name 'df_norm' is not defined",
     "output_type": "error",
     "traceback": [
      "\u001b[1;31m---------------------------------------------------------------------------\u001b[0m",
      "\u001b[1;31mNameError\u001b[0m                                 Traceback (most recent call last)",
      "\u001b[1;32m<ipython-input-40-ed6c846944c7>\u001b[0m in \u001b[0;36m<module>\u001b[1;34m\u001b[0m\n\u001b[1;32m----> 1\u001b[1;33m \u001b[0mdf_norm\u001b[0m\u001b[1;33m.\u001b[0m\u001b[0minfo\u001b[0m\u001b[1;33m(\u001b[0m\u001b[1;33m)\u001b[0m\u001b[1;33m\u001b[0m\u001b[1;33m\u001b[0m\u001b[0m\n\u001b[0m",
      "\u001b[1;31mNameError\u001b[0m: name 'df_norm' is not defined"
     ]
    }
   ],
   "source": [
    "df_norm.info()"
   ]
  },
  {
   "cell_type": "markdown",
   "metadata": {},
   "source": [
    "## Recheck multipol\n"
   ]
  },
  {
   "cell_type": "code",
   "execution_count": 38,
   "metadata": {
    "ExecuteTime": {
     "end_time": "2021-05-29T18:49:26.278698Z",
     "start_time": "2021-05-29T18:49:26.264703Z"
    }
   },
   "outputs": [
    {
     "ename": "NameError",
     "evalue": "name 'df_norm' is not defined",
     "output_type": "error",
     "traceback": [
      "\u001b[1;31m---------------------------------------------------------------------------\u001b[0m",
      "\u001b[1;31mNameError\u001b[0m                                 Traceback (most recent call last)",
      "\u001b[1;32m<ipython-input-38-777becba19d8>\u001b[0m in \u001b[0;36m<module>\u001b[1;34m\u001b[0m\n\u001b[1;32m----> 1\u001b[1;33m \u001b[0mmultiplot\u001b[0m\u001b[1;33m(\u001b[0m\u001b[0mdf_norm\u001b[0m\u001b[1;33m.\u001b[0m\u001b[0mfilter\u001b[0m\u001b[1;33m(\u001b[0m\u001b[0mregex\u001b[0m\u001b[1;33m=\u001b[0m\u001b[1;34m'sca'\u001b[0m\u001b[1;33m,\u001b[0m\u001b[0maxis\u001b[0m\u001b[1;33m=\u001b[0m\u001b[1;36m1\u001b[0m\u001b[1;33m)\u001b[0m\u001b[1;33m)\u001b[0m\u001b[1;33m\u001b[0m\u001b[1;33m\u001b[0m\u001b[0m\n\u001b[0m\u001b[0;32m      2\u001b[0m \u001b[0mplt\u001b[0m\u001b[1;33m.\u001b[0m\u001b[0mtitle\u001b[0m\u001b[1;33m(\u001b[0m\u001b[1;34m'Scaled Data only'\u001b[0m\u001b[1;33m)\u001b[0m\u001b[1;33m\u001b[0m\u001b[1;33m\u001b[0m\u001b[0m\n\u001b[0;32m      3\u001b[0m \u001b[0mplt\u001b[0m\u001b[1;33m.\u001b[0m\u001b[0mshow\u001b[0m\u001b[1;33m\u001b[0m\u001b[1;33m\u001b[0m\u001b[0m\n",
      "\u001b[1;31mNameError\u001b[0m: name 'df_norm' is not defined"
     ]
    }
   ],
   "source": [
    "multiplot(df_norm.filter(regex='sca',axis=1))\n",
    "plt.title('Scaled Data only')\n",
    "plt.show"
   ]
  },
  {
   "cell_type": "code",
   "execution_count": null,
   "metadata": {
    "ExecuteTime": {
     "end_time": "2021-05-29T18:48:40.730303Z",
     "start_time": "2021-05-29T18:48:18.779Z"
    }
   },
   "outputs": [],
   "source": [
    "X =df_norm.loc[:,~(df_norm.columns.str.startswith('sca'))]\n",
    "multiplot(X.drop('price',axis=1))\n",
    "plt.title('Un-scaled Data')\n",
    "X=[]"
   ]
  },
  {
   "cell_type": "markdown",
   "metadata": {},
   "source": [
    "#### No multicollinearity to worry about. Huzzah!"
   ]
  },
  {
   "cell_type": "code",
   "execution_count": null,
   "metadata": {
    "ExecuteTime": {
     "end_time": "2021-05-29T18:48:40.732303Z",
     "start_time": "2021-05-29T18:48:18.785Z"
    }
   },
   "outputs": [],
   "source": [
    "# DEFINING DATASET TO RUN (df_run)\n",
    "df_run = df_norm.copy()\n",
    "# df_run.to_csv(data_filepath+'df_run_pre_codes.csv')\n",
    "df_run.info()"
   ]
  },
  {
   "cell_type": "markdown",
   "metadata": {},
   "source": [
    "## CAT.CODES FOR BINNED DATA "
   ]
  },
  {
   "cell_type": "code",
   "execution_count": null,
   "metadata": {
    "ExecuteTime": {
     "end_time": "2021-05-29T18:48:40.733303Z",
     "start_time": "2021-05-29T18:48:18.790Z"
    }
   },
   "outputs": [],
   "source": [
    "df_filt = pd.DataFrame({})\n",
    "\n",
    "df_filt = df_run.filter(regex=('bins_'),axis =1).copy()\n",
    "df_filt['zipcode']=df_run['zipcode'].copy()\n",
    "df_filt.info()"
   ]
  },
  {
   "cell_type": "code",
   "execution_count": null,
   "metadata": {
    "ExecuteTime": {
     "end_time": "2021-05-29T18:48:40.735303Z",
     "start_time": "2021-05-29T18:48:18.796Z"
    }
   },
   "outputs": [],
   "source": [
    "df_norm.head()"
   ]
  },
  {
   "cell_type": "code",
   "execution_count": null,
   "metadata": {
    "ExecuteTime": {
     "end_time": "2021-05-29T18:48:40.736306Z",
     "start_time": "2021-05-29T18:48:18.801Z"
    }
   },
   "outputs": [],
   "source": [
    "# Creating binned vars cat codes\n",
    "for col in df_filt:\n",
    "    df_filt['code'+col] = df_filt[col].cat.codes\n",
    "    df_filt.drop(col,axis=1,inplace=True)\n",
    "df_filt.info()"
   ]
  },
  {
   "cell_type": "code",
   "execution_count": null,
   "metadata": {
    "ExecuteTime": {
     "end_time": "2021-05-29T18:48:40.738304Z",
     "start_time": "2021-05-29T18:48:18.806Z"
    }
   },
   "outputs": [],
   "source": [
    "df_filt.head()"
   ]
  },
  {
   "cell_type": "markdown",
   "metadata": {},
   "source": [
    "## Concatenate final df for modeling (df_run)"
   ]
  },
  {
   "cell_type": "code",
   "execution_count": null,
   "metadata": {
    "ExecuteTime": {
     "end_time": "2021-05-29T18:48:40.739305Z",
     "start_time": "2021-05-29T18:48:18.812Z"
    }
   },
   "outputs": [],
   "source": [
    "# Concatenate codebins from df_filt + df_run\n",
    "df_run = pd.concat([df_run, df_filt],axis=1)  #).filter(regex=('code'))],axis=1)\n",
    "df_run.info()"
   ]
  },
  {
   "cell_type": "code",
   "execution_count": null,
   "metadata": {
    "ExecuteTime": {
     "end_time": "2021-05-29T18:48:40.741304Z",
     "start_time": "2021-05-29T18:48:18.817Z"
    }
   },
   "outputs": [],
   "source": [
    "df_run.head(2)"
   ]
  },
  {
   "cell_type": "markdown",
   "metadata": {},
   "source": [
    "#### Clever line of code to select columns by name\n",
    "\n",
    "```python\n",
    "# Select columns that do not contain the string 'logZ'\n",
    "df_run =df_run.loc[:,~(df_run.columns.str.startswith('logZ'))]\n",
    "```"
   ]
  },
  {
   "cell_type": "markdown",
   "metadata": {},
   "source": [
    "### Saving/loading df_run after cleaning up"
   ]
  },
  {
   "cell_type": "markdown",
   "metadata": {},
   "source": [
    "# FITTING AN INTIAL MODEL:"
   ]
  },
  {
   "cell_type": "markdown",
   "metadata": {},
   "source": [
    "## DETERMINING IDEAL FEATURES TO USE \n",
    "\n",
    "- Use MinMaxScaler to get on same scale\n",
    "- Use RFE to find the best features\n",
    "- Get ranking of feature importance (from both scaled and unscaled data)"
   ]
  },
  {
   "cell_type": "code",
   "execution_count": null,
   "metadata": {
    "ExecuteTime": {
     "end_time": "2021-05-29T18:48:40.743304Z",
     "start_time": "2021-05-29T18:48:18.825Z"
    }
   },
   "outputs": [],
   "source": [
    "from sklearn.feature_selection import RFE\n",
    "from sklearn.linear_model import LinearRegression\n",
    "from sklearn.preprocessing import MinMaxScaler\n",
    "\n",
    "import sklearn.metrics as metrics"
   ]
  },
  {
   "cell_type": "code",
   "execution_count": null,
   "metadata": {
    "ExecuteTime": {
     "end_time": "2021-05-29T18:48:40.745304Z",
     "start_time": "2021-05-29T18:48:18.830Z"
    }
   },
   "outputs": [],
   "source": [
    "df_run.info()"
   ]
  },
  {
   "cell_type": "code",
   "execution_count": null,
   "metadata": {
    "ExecuteTime": {
     "end_time": "2021-05-29T18:48:40.746303Z",
     "start_time": "2021-05-29T18:48:18.834Z"
    }
   },
   "outputs": [],
   "source": [
    "df.columns = [col.lower().replace(' ','_') for col in df.columns]\n",
    "df.head()"
   ]
  },
  {
   "cell_type": "code",
   "execution_count": null,
   "metadata": {
    "ExecuteTime": {
     "end_time": "2021-05-29T18:48:40.747303Z",
     "start_time": "2021-05-29T18:48:18.839Z"
    }
   },
   "outputs": [],
   "source": [
    "# Define selector function combining RFE and linear regression\n",
    "linreg = LinearRegression()\n",
    "selector = RFE(linreg, n_features_to_select=1)\n",
    "\n",
    "# Drop already scaled variables for this feature testing\n",
    "X =df_run.loc[:,~(df_run.columns.str.startswith(('bins','zip')))]\n",
    "X = X.drop('price',axis=1)\n",
    "\n",
    "# RUNNING RFE ON THE UNSCALED DATA(DEMONSTRATION)\n",
    "Y = df_run['price']\n",
    "# Y = df_run['logz_price']\n",
    "# X = df_run.drop(['price'],axis=1)"
   ]
  },
  {
   "cell_type": "code",
   "execution_count": null,
   "metadata": {
    "ExecuteTime": {
     "end_time": "2021-05-29T18:48:40.748303Z",
     "start_time": "2021-05-29T18:48:18.843Z"
    }
   },
   "outputs": [],
   "source": [
    "# Checking X\n",
    "X.info()"
   ]
  },
  {
   "cell_type": "code",
   "execution_count": null,
   "metadata": {
    "ExecuteTime": {
     "end_time": "2021-05-29T18:48:40.750304Z",
     "start_time": "2021-05-29T18:48:18.849Z"
    }
   },
   "outputs": [],
   "source": [
    "# Run regressions on X,Y \n",
    "selector = selector.fit(X,Y)\n",
    "\n",
    "# Saving unscaled rankings for demo purposes\n",
    "no_scale = selector.ranking_\n"
   ]
  },
  {
   "cell_type": "code",
   "execution_count": null,
   "metadata": {
    "ExecuteTime": {
     "end_time": "2021-05-29T18:48:40.751304Z",
     "start_time": "2021-05-29T18:48:18.855Z"
    }
   },
   "outputs": [],
   "source": [
    "# Scale all variables to value between 0-1 to use RFE to determine which features are the most important for determining price?\n",
    "from sklearn.preprocessing import MinMaxScaler\n",
    "scaler = MinMaxScaler()\n",
    "\n",
    "# Scale the data before running RFE\n",
    "print('Consider revisiting this step and dummy-coding zipcode.')\n",
    "\n",
    "# ONLY SCALE NON-CATEGORICAL, ONE-HOT CATEGORICAL\n",
    "scaler.fit(X,Y)\n",
    "scaled_data = scaler.transform(X)\n",
    "scaled_data.shape"
   ]
  },
  {
   "cell_type": "code",
   "execution_count": null,
   "metadata": {
    "ExecuteTime": {
     "end_time": "2021-05-29T18:48:40.753305Z",
     "start_time": "2021-05-29T18:48:18.859Z"
    }
   },
   "outputs": [],
   "source": [
    "# Running RFE with scaled data\n",
    "selector = selector.fit(scaled_data, Y) \n",
    "scaled = selector.ranking_\n",
    "type(scaled)"
   ]
  },
  {
   "cell_type": "code",
   "execution_count": null,
   "metadata": {
    "ExecuteTime": {
     "end_time": "2021-05-29T18:48:40.754303Z",
     "start_time": "2021-05-29T18:48:18.864Z"
    }
   },
   "outputs": [],
   "source": [
    "# Create a dataframe with the ranked values of each feature for both scaled and unscaled data\n",
    "best_features = pd.DataFrame({'columns':X.columns, 'scaled_rank' : scaled,'unscaled_rank':no_scale})\n",
    "best_features.set_index('columns',inplace=True)"
   ]
  },
  {
   "cell_type": "code",
   "execution_count": null,
   "metadata": {
    "ExecuteTime": {
     "end_time": "2021-05-29T18:48:40.756305Z",
     "start_time": "2021-05-29T18:48:18.870Z"
    },
    "scrolled": false
   },
   "outputs": [],
   "source": [
    "# Display dataframe (sorted based on unscaled rank)\n",
    "best_features.sort_values('unscaled_rank')"
   ]
  },
  {
   "cell_type": "code",
   "execution_count": null,
   "metadata": {
    "ExecuteTime": {
     "end_time": "2021-05-29T18:48:40.758306Z",
     "start_time": "2021-05-29T18:48:18.875Z"
    }
   },
   "outputs": [],
   "source": [
    "# Plot the difference in feature importance between analyzing scaled and unscaled data. \n",
    "# For demonstration purposes.\n",
    "features = pd.DataFrame({'Columns':X.columns, 'Not_Scaled':no_scale, 'Scaled':scaled})\n",
    "# PLot the difference between \n",
    "ax = features.set_index('Columns').plot(kind = 'bar',figsize=(12,8))\n",
    "ax.set_title('Feature Importance Scaled vs. Not Scaled')\n",
    "ax.set_ylabel('Features Importance')"
   ]
  },
  {
   "cell_type": "markdown",
   "metadata": {},
   "source": [
    "### Using elbow plots to identify the best # of features to use "
   ]
  },
  {
   "cell_type": "code",
   "execution_count": null,
   "metadata": {
    "ExecuteTime": {
     "end_time": "2021-05-29T18:48:40.760303Z",
     "start_time": "2021-05-29T18:48:18.880Z"
    }
   },
   "outputs": [],
   "source": [
    "X.info()"
   ]
  },
  {
   "cell_type": "markdown",
   "metadata": {},
   "source": [
    "#### Plot R_squared and MSE for Scaled Data"
   ]
  },
  {
   "cell_type": "code",
   "execution_count": null,
   "metadata": {
    "ExecuteTime": {
     "end_time": "2021-05-29T18:48:40.761302Z",
     "start_time": "2021-05-29T18:48:18.887Z"
    }
   },
   "outputs": [],
   "source": [
    "r_squared = []\n",
    "for x in range(1, len(X.columns)):\n",
    "    selector = RFE(linreg, n_features_to_select=x)\n",
    "    selector.fit(scaled_data, Y)\n",
    "    linreg.fit(X[X.columns[selector.support_]], Y)\n",
    "    r_sq = linreg.score(X[X.columns[selector.support_]], Y)\n",
    "    r_squared.append(r_sq)"
   ]
  },
  {
   "cell_type": "code",
   "execution_count": null,
   "metadata": {
    "ExecuteTime": {
     "end_time": "2021-05-29T18:48:40.762302Z",
     "start_time": "2021-05-29T18:48:18.892Z"
    }
   },
   "outputs": [],
   "source": [
    "# r_squared"
   ]
  },
  {
   "cell_type": "code",
   "execution_count": null,
   "metadata": {
    "ExecuteTime": {
     "end_time": "2021-05-29T18:48:40.764304Z",
     "start_time": "2021-05-29T18:48:18.897Z"
    }
   },
   "outputs": [],
   "source": [
    "from sklearn.metrics import mean_squared_error\n",
    "\n",
    "mse=[]\n",
    "for x in range(1, len(X.columns)):\n",
    "    selector = RFE(linreg,  n_features_to_select=x)\n",
    "    selector.fit(scaled_data, Y)\n",
    "    linreg.fit(X[X.columns[selector.support_]], Y)\n",
    "    y_pred = linreg.predict(X[X.columns[selector.support_]])\n",
    "    mse.append(mean_squared_error(Y, y_pred))\n",
    "# mse\n"
   ]
  },
  {
   "cell_type": "code",
   "execution_count": null,
   "metadata": {
    "ExecuteTime": {
     "end_time": "2021-05-29T18:48:40.766304Z",
     "start_time": "2021-05-29T18:48:18.902Z"
    }
   },
   "outputs": [],
   "source": [
    "from sklearn.metrics import mean_squared_error\n",
    "\n",
    "fig = plt.figure(figsize=(12 ,6))\n",
    "\n",
    "ax1 = plt.subplot(121)\n",
    "ax1.plot(range(1, len(X.columns)), r_squared)\n",
    "ax1.set_ylabel('R_Squared')\n",
    "ax1.set_xlabel('Number of Features')\n",
    "ax1.grid()\n",
    "\n",
    "ax2 = plt.subplot(122)\n",
    "ax2.plot(range(1,len(mse)+1), mse )\n",
    "ax2.set_ylabel('MSE')\n",
    "\n",
    "ax2.set_xlabel('Number of Features',fontsize=20)\n",
    "ax2.grid()\n"
   ]
  },
  {
   "cell_type": "markdown",
   "metadata": {},
   "source": [
    "#### Plot R_squared and MSE for Unscaled Data"
   ]
  },
  {
   "cell_type": "code",
   "execution_count": null,
   "metadata": {
    "ExecuteTime": {
     "end_time": "2021-05-29T18:48:40.767305Z",
     "start_time": "2021-05-29T18:48:18.907Z"
    }
   },
   "outputs": [],
   "source": [
    "r_squared = []\n",
    "for x in range(1, len(X.columns)):\n",
    "    selector = RFE(linreg, n_features_to_select=x)\n",
    "    selector.fit(X, Y)\n",
    "    linreg.fit(X[X.columns[selector.support_]], Y)\n",
    "    r_sq = linreg.score(X[X.columns[selector.support_]], Y)\n",
    "    r_squared.append(r_sq)\n",
    "\n",
    "    \n",
    "from sklearn.metrics import mean_squared_error\n",
    "\n",
    "mse=[]\n",
    "for x in range(1, len(X.columns)):\n",
    "    selector = RFE(linreg,  n_features_to_select=x)\n",
    "    selector.fit(X, Y)\n",
    "    linreg.fit(X[X.columns[selector.support_]], Y)\n",
    "    y_pred = linreg.predict(X[X.columns[selector.support_]])\n",
    "    mse.append(mean_squared_error(Y, y_pred))\n",
    "\n",
    "\n",
    "\n",
    "fig = plt.figure(figsize=(12 ,6))\n",
    "\n",
    "ax1 = plt.subplot(121)\n",
    "ax1.plot(range(1, len(X.columns)), r_squared)\n",
    "ax1.set_ylabel('R_Squared')\n",
    "ax1.set_xlabel('Number of Features')\n",
    "ax1.grid()\n",
    "\n",
    "ax2 = plt.subplot(122)\n",
    "ax2.plot(range(1,len(mse)+1), mse )\n",
    "ax2.set_ylabel('MSE')\n",
    "\n",
    "ax2.set_xlabel('Number of Features')\n",
    "ax2.grid() \n"
   ]
  },
  {
   "cell_type": "markdown",
   "metadata": {},
   "source": [
    "### Choosing Features Based on Rankings\n",
    "- The above figure is indicating that right now my best possible R2 with the lowest # of features would be with 6 predictors (judging unscaled data). \n",
    "- Now examine the sorted best_features dataframe to see which 6 to use"
   ]
  },
  {
   "cell_type": "code",
   "execution_count": null,
   "metadata": {
    "ExecuteTime": {
     "end_time": "2021-05-29T18:48:40.768303Z",
     "start_time": "2021-05-29T18:48:18.915Z"
    }
   },
   "outputs": [],
   "source": [
    "cat_cols = ['bedrooms','bathrooms']\n",
    "\n",
    "from sklearn.preprocessing import LabelEncoder\n",
    "encoder = LabelEncoder()\n",
    "new_df = pd.DataFrame()\n",
    "\n",
    "for col in cat_cols:\n",
    "    new_df[col] = encoder.fit_transform(df[col])\n",
    "new_df.head()"
   ]
  },
  {
   "cell_type": "code",
   "execution_count": null,
   "metadata": {
    "ExecuteTime": {
     "end_time": "2021-05-29T18:48:40.769304Z",
     "start_time": "2021-05-29T18:48:18.920Z"
    }
   },
   "outputs": [],
   "source": [
    "best_features.sort_values('scaled_rank')"
   ]
  },
  {
   "cell_type": "code",
   "execution_count": null,
   "metadata": {
    "ExecuteTime": {
     "end_time": "2021-05-29T18:48:40.771304Z",
     "start_time": "2021-05-29T18:48:18.925Z"
    }
   },
   "outputs": [],
   "source": [
    "# Pull out the 6 best features via ranking \n",
    "best_num_feat = 6\n",
    "selected_features = best_features.sort_values('unscaled_rank')[0:best_num_feat]\n",
    "selected_features"
   ]
  },
  {
   "cell_type": "code",
   "execution_count": null,
   "metadata": {
    "ExecuteTime": {
     "end_time": "2021-05-29T18:48:40.772305Z",
     "start_time": "2021-05-29T18:48:18.930Z"
    }
   },
   "outputs": [],
   "source": [
    "# USING UNSCALED\n",
    "selected_features.index"
   ]
  },
  {
   "cell_type": "code",
   "execution_count": null,
   "metadata": {
    "ExecuteTime": {
     "end_time": "2021-05-29T18:48:40.774304Z",
     "start_time": "2021-05-29T18:48:18.935Z"
    }
   },
   "outputs": [],
   "source": [
    "# Check the columns of X\n",
    "X[selected_features.index].head()"
   ]
  },
  {
   "cell_type": "markdown",
   "metadata": {},
   "source": [
    "## PRELIMINARY UNIVARIATE LINEAR REGRESSION MODELING"
   ]
  },
  {
   "cell_type": "code",
   "execution_count": null,
   "metadata": {
    "ExecuteTime": {
     "end_time": "2021-05-29T18:48:40.775305Z",
     "start_time": "2021-05-29T18:48:18.940Z"
    }
   },
   "outputs": [],
   "source": [
    "df_run.info()"
   ]
  },
  {
   "cell_type": "code",
   "execution_count": null,
   "metadata": {
    "ExecuteTime": {
     "end_time": "2021-05-29T18:48:40.777303Z",
     "start_time": "2021-05-29T18:48:18.946Z"
    }
   },
   "outputs": [],
   "source": [
    "# Running simple linear regression for each predictor on its own\n",
    "import statsmodels.api as sm\n",
    "import statsmodels.formula.api as smf\n",
    "import scipy.stats as stats\n",
    "import statsmodels.stats.api as sms\n",
    "\n",
    "\n",
    "# log_price = np.log(df['price'])\n",
    "# df['log_price'] = log_price\n",
    "\n",
    "target_var = 'price'\n",
    "col_names = df_run.drop(['price'],axis=1).columns\n",
    "\n",
    "# Create results list for saving the output statstics for each predictor\n",
    "results = [['ind_var', 'r_squared', 'intercept', 'slope', 'p-value' ]] \n",
    "\n",
    "for idx, val in enumerate(col_names): \n",
    "    \n",
    "    # Use the names of the columns to determine format of forumla  \n",
    "    if val.startswith('code'):\n",
    "        \n",
    "        df_run[val] = df_run[val].astype('category').cat.as_ordered() \n",
    "        f =f'{str(target_var)}~C({val})'\n",
    "        \n",
    "    elif val.startswith('bin'):\n",
    "        \n",
    "        df_run[val] = df_run[val].cat.as_ordered() \n",
    "        f =f'{str(target_var)}~C({val})'\n",
    "        \n",
    "    else:\n",
    "        \n",
    "        f =f'{str(target_var)}~{val}'\n",
    "        \n",
    "    # Run the ols models     \n",
    "    model = smf.ols(formula=f, data=df_run).fit() \n",
    "    model.summary()\n",
    "    \n",
    "    # Append results\n",
    "    results.append([val, model.rsquared, model.params[0], model.params[1], model.pvalues[1] ]) \n",
    "    \n",
    "# Turn results into dataframe with correct index and columns\n",
    "res_df = pd.DataFrame(results)\n",
    "res_df.columns = res_df.iloc[0]\n",
    "res_df=res_df[1:]\n",
    "res_df.set_index('ind_var',inplace=True)\n",
    "res_df.sort_values('r_squared',ascending=False)"
   ]
  },
  {
   "cell_type": "code",
   "execution_count": null,
   "metadata": {
    "ExecuteTime": {
     "end_time": "2021-05-29T18:48:40.778302Z",
     "start_time": "2021-05-29T18:48:18.950Z"
    }
   },
   "outputs": [],
   "source": [
    "# Initial variables for modeling\n",
    "try_modeling = ['codezipcode', 'grade','sca_sqft_living', 'sca_sqft_living15']\n",
    "# Hmm...realized there are redundant versions of variables and am just selecting the correct versions to use."
   ]
  },
  {
   "cell_type": "markdown",
   "metadata": {},
   "source": [
    "#### NOTES FOLLOWING PRELIMINARY LINEAR REGRESSIONS\n",
    "- Variables that had high R_square with logz_price:\n",
    "    - New results = ['codezipcode', 'grade','sca_sqft_living', 'sca_sqft_living15']\n",
    "\n",
    "```python\n",
    " try_modeling = try_modeling = ['codezipcode', 'grade','sca_sqft_living', 'sca_sqft_living16']\n",
    "\n",
    "    \n",
    "```"
   ]
  },
  {
   "cell_type": "markdown",
   "metadata": {},
   "source": [
    "## MULTIVARIATE REGRESSIONS"
   ]
  },
  {
   "cell_type": "code",
   "execution_count": null,
   "metadata": {
    "ExecuteTime": {
     "end_time": "2021-05-29T18:48:40.780305Z",
     "start_time": "2021-05-29T18:48:18.956Z"
    }
   },
   "outputs": [],
   "source": [
    "import statsmodels.api as sm\n",
    "import statsmodels.formula.api as smf\n",
    "import scipy.stats as stats\n",
    "import statsmodels.stats.api as sms\n",
    "from sklearn.preprocessing import MinMaxScaler\n",
    "\n",
    "# # PUTTING TOGETHER THE PREDICTORS TO RUN IN THE REGRESSION\n",
    "# ## Last min dummy vars []'cat_grade','cat_zipcode','cat_view','cat_bins_sqft_above','cat_bins_sqft_basement']\n",
    "# dum_grades = pd.get_dummies(df_run['cat_grade'],prefix='gr').iloc[:,:-1]\n",
    "# dum_view = pd.get_dummies(df_run['cat_view'], prefix='view').iloc[:,:-1]\n",
    "# dum_sqft_above = pd.get_dummies(df_run['cat_bins_sqftabove'],prefix='sqftAb').iloc[:,:-1]\n",
    "# dum_sqft_base = pd.get_dummies(df_run['cat_bins_sqftbasement'],prefix='sqftBa').iloc[:,:-1]\n",
    "\n",
    "\n",
    "# RUNNING K-FOLD VALIDATION WITH STATSMODELS OLS.\n",
    "# X = df_run.drop(['price','logZ_price'],axis=1)\n",
    "# list_predictors = ['logZ_sqft_living','logZ_sqft_living15','bedrooms','bathrooms','floors']\n",
    "# scaler = MinMaxScaler()\n",
    "# sel_columns = selected_features.index"
   ]
  },
  {
   "cell_type": "code",
   "execution_count": null,
   "metadata": {
    "ExecuteTime": {
     "end_time": "2021-05-29T18:48:40.781304Z",
     "start_time": "2021-05-29T18:48:18.962Z"
    }
   },
   "outputs": [],
   "source": [
    "# Define X, Y \n",
    "X = df_run[try_modeling]\n",
    "# X.columns\n",
    "\n",
    "Y = df_run['price']\n",
    "# y = df_run['logZ_price']\n",
    "\n",
    "# Get a list of predictor names string \n",
    "list_predictors = [str(x) for x in X.columns]\n",
    "list_predictors.append('intercept')\n",
    "list_predictors"
   ]
  },
  {
   "cell_type": "code",
   "execution_count": null,
   "metadata": {
    "ExecuteTime": {
     "end_time": "2021-05-29T18:48:40.782303Z",
     "start_time": "2021-05-29T18:48:18.967Z"
    }
   },
   "outputs": [],
   "source": [
    "df_run.head()"
   ]
  },
  {
   "cell_type": "code",
   "execution_count": null,
   "metadata": {
    "ExecuteTime": {
     "end_time": "2021-05-29T18:48:40.784303Z",
     "start_time": "2021-05-29T18:48:18.972Z"
    }
   },
   "outputs": [],
   "source": [
    "pause"
   ]
  },
  {
   "cell_type": "code",
   "execution_count": null,
   "metadata": {
    "ExecuteTime": {
     "end_time": "2021-05-29T18:48:40.785304Z",
     "start_time": "2021-05-29T18:48:18.979Z"
    }
   },
   "outputs": [],
   "source": [
    "df.head()"
   ]
  },
  {
   "cell_type": "code",
   "execution_count": null,
   "metadata": {
    "ExecuteTime": {
     "end_time": "2021-05-29T18:48:40.787304Z",
     "start_time": "2021-05-29T18:48:18.985Z"
    },
    "scrolled": false
   },
   "outputs": [],
   "source": [
    "# Comcatenate X,Y for OLS\n",
    "df_run_ols = pd.concat([Y,X],axis=1)\n",
    "\n",
    "# Import packages\n",
    "import statsmodels.api as sm\n",
    "import statsmodels.stats.api as sms\n",
    "import statsmodels.formula.api as smf\n",
    "import scipy.stats as stats\n",
    "\n",
    "# Enter equation for selected predictors: (use C to run as categorical) \n",
    "# f1 = 'price~C(codezipcode)+C(grade)+sca_sqft_living+sca_sqft_living15' # 0.8 r1 Adjusted\n",
    "f1 = 'price~C(codezipcode)+grade+sca_sqft_living+sca_sqft_living15' \n",
    "\n",
    "# Run model and report sumamry\n",
    "model = smf.ols(formula=f1, data=df_run_ols).fit()\n",
    "model.summary()"
   ]
  },
  {
   "cell_type": "markdown",
   "metadata": {},
   "source": [
    "## Cross-Validation with K-Fold Test-Train Splits:\n",
    "```python\n",
    "- f1 = 'price ~ C(codezipcode) + grade + sca_sqft_living + sca_sqft_living15' \n",
    "```\n",
    "- price ~ zipcode(category), grade~~(category)~~, sqft_living(scaled to median, RobustScaler) + sqft_living15 (scaled to median, RobustScaler)"
   ]
  },
  {
   "cell_type": "markdown",
   "metadata": {},
   "source": [
    "### Save df_run_ols to csv"
   ]
  },
  {
   "cell_type": "code",
   "execution_count": null,
   "metadata": {
    "ExecuteTime": {
     "end_time": "2021-05-29T18:48:40.788303Z",
     "start_time": "2021-05-29T18:48:18.993Z"
    }
   },
   "outputs": [],
   "source": [
    "# df_run_ols.to_csv(data_filepath+'df_run_ols_model.csv')"
   ]
  },
  {
   "cell_type": "code",
   "execution_count": null,
   "metadata": {
    "ExecuteTime": {
     "end_time": "2021-05-29T18:48:40.789302Z",
     "start_time": "2021-05-29T18:48:18.997Z"
    }
   },
   "outputs": [],
   "source": [
    "# Visualize Q-Q Plots\n",
    "resid1=model.resid\n",
    "fig = sm.graphics.qqplot(resid1, dist=stats.norm, line='45', fit=True,marker='.')"
   ]
  },
  {
   "cell_type": "markdown",
   "metadata": {},
   "source": [
    "- Interpreting the Q-Q plot:\n",
    "    - The Q-Q plot looks a bit crazy and may indicate... outliers? \n",
    "    - The only thing I did not check for outliers in final model was zipcode.\n",
    "    - Will run cross-validation with test-train-split to help decide"
   ]
  },
  {
   "cell_type": "code",
   "execution_count": null,
   "metadata": {
    "ExecuteTime": {
     "end_time": "2021-05-29T18:48:40.790303Z",
     "start_time": "2021-05-29T18:48:19.002Z"
    }
   },
   "outputs": [],
   "source": [
    "# Visualizing final dataset again.\n",
    "import matplotlib.pyplot as plt\n",
    "\n",
    "# Re-inspecting XY\n",
    "# plot_hist_scat(df_run_ols)"
   ]
  },
  {
   "cell_type": "markdown",
   "metadata": {},
   "source": [
    "# FINAL REGRESSION RESULTS"
   ]
  },
  {
   "cell_type": "markdown",
   "metadata": {},
   "source": [
    "\n",
    "## K-Fold valiation with OLS"
   ]
  },
  {
   "cell_type": "code",
   "execution_count": null,
   "metadata": {
    "ExecuteTime": {
     "end_time": "2021-05-29T18:48:40.792303Z",
     "start_time": "2021-05-29T18:48:19.010Z"
    },
    "scrolled": false
   },
   "outputs": [],
   "source": [
    "# k_fold_val_ols(X,y,k=10):\n",
    "from sklearn.model_selection import train_test_split\n",
    "from sklearn.linear_model import LinearRegression\n",
    "from sklearn import metrics \n",
    "\n",
    "y = df_run['price']\n",
    "\n",
    "\n",
    "# Run 10-fold cross validation\n",
    "results = [['set#','R_square_train','MSE_train','R_square_test','MSE_test']]\n",
    "\n",
    "num_coeff = X.shape[1]\n",
    "\n",
    "list_predictors = [str(x) for x in X.columns]\n",
    "list_predictors.append('intercept') \n",
    "\n",
    "reg_params = [list_predictors]\n",
    "\n",
    "i=0\n",
    "k=10\n",
    "while i <(k+1):\n",
    "    X_train, X_test, y_train, y_test = train_test_split(X,y) #,stratify=[cat_col_names])\n",
    "\n",
    "    data = pd.concat([X_train,y_train],axis=1)\n",
    "    f1 = 'price~C(codezipcode)+grade+sca_sqft_living+sca_sqft_living15' \n",
    "    model = smf.ols(formula=f1, data=data).fit()\n",
    "    model.summary()\n",
    "    \n",
    "    y_hat_train = model.predict(X_train)\n",
    "    y_hat_test = model.predict(X_test)\n",
    "\n",
    "    train_residuals = y_hat_train - y_train\n",
    "    test_residuals = y_hat_test - y_test\n",
    "\n",
    "        \n",
    "    train_mse = metrics.mean_squared_error(y_train, y_hat_train)\n",
    "    test_mse = metrics.mean_squared_error(y_test, y_hat_test)\n",
    "\n",
    "    R_sqare_train = metrics.r2_score(y_train,y_hat_train)\n",
    "    R_square_test = metrics.r2_score(y_test,y_hat_test)\n",
    "\n",
    "    results.append([i,R_sqare_train,train_mse,R_square_test,test_mse])\n",
    "    i+=1\n",
    "\n",
    "    \n",
    "results = pd.DataFrame(results[1:],columns=results[0])\n",
    "results\n",
    "model.summary()"
   ]
  },
  {
   "cell_type": "code",
   "execution_count": null,
   "metadata": {
    "ExecuteTime": {
     "end_time": "2021-05-29T18:48:40.794304Z",
     "start_time": "2021-05-29T18:48:19.015Z"
    }
   },
   "outputs": [],
   "source": [
    "display(results.round(3).style.hide_index().set_caption('K FOLD VALIDATION RESULTS:'))\n",
    "print(results.mean().round(2))"
   ]
  },
  {
   "cell_type": "markdown",
   "metadata": {},
   "source": [
    "## Q-Q Plots"
   ]
  },
  {
   "cell_type": "code",
   "execution_count": null,
   "metadata": {
    "ExecuteTime": {
     "end_time": "2021-05-29T18:48:40.795303Z",
     "start_time": "2021-05-29T18:48:19.020Z"
    }
   },
   "outputs": [],
   "source": [
    "resid1=model.resid\n",
    "fig = sm.graphics.qqplot(resid1, dist=stats.norm, line='45', fit=True,marker='.')"
   ]
  },
  {
   "cell_type": "code",
   "execution_count": null,
   "metadata": {
    "ExecuteTime": {
     "end_time": "2021-05-29T18:48:40.796303Z",
     "start_time": "2021-05-29T18:48:19.025Z"
    }
   },
   "outputs": [],
   "source": [
    "df_model = pd.concat([df_run[try_modeling],df_run['price']],axis=1)"
   ]
  },
  {
   "cell_type": "code",
   "execution_count": null,
   "metadata": {
    "ExecuteTime": {
     "end_time": "2021-05-29T18:48:40.798303Z",
     "start_time": "2021-05-29T18:48:19.030Z"
    }
   },
   "outputs": [],
   "source": [
    "results.describe().round(3)"
   ]
  },
  {
   "cell_type": "markdown",
   "metadata": {},
   "source": [
    "# FINAL MODEL - New \n",
    "- For k=10 fold validation, with price as target variable:\n",
    "    - mean r_squared for the test sets was 0.797, with mean MSE = 8.158691e+09\n",
    "    \n",
    "  f1 = 'price~C(codezipcode)+C(grade)+sca_sqft_living+sca_sqft_living15' \n",
    "- Predictors in final model:\n",
    "    - 'Zipcode'\n",
    "    - 'grade'\n",
    "    - 'sqft_living'\n",
    "    - 'sqfr_living15'\n",
    "\n",
    "- My final model indicates that the size, location, and housing geade to be critical components in determining salesprice."
   ]
  },
  {
   "cell_type": "markdown",
   "metadata": {},
   "source": [
    "## Predictor Coefficients & Their Affect On Sales Price\n",
    "- Grade, sqft_living, and sqft_living15 all have straight-forward relationships with sales price, with positive coefficients.\n",
    "    - sqft_living is a larger component of the price (coefficient: 1.043e+05)\n",
    "    - grade (coeff: 3.679e+04)and sqft_living15 (coeff: 3.767e+04) have a similar magnitude of an effect on sales price \n",
    "- Zipcode is a bit trickier, as each zipcode has its own coefficient. \n",
    "    - Overall, zipcode has a positive coefficient/effect on price (to varying degrees)\n",
    "    - There are, however, a couple zipcodes that negatively impact sales price. "
   ]
  },
  {
   "cell_type": "markdown",
   "metadata": {},
   "source": [
    "## Future Directions\n",
    "\n",
    "- **With more time I would have proceeded to perform the following steps:**\n",
    "    - Additional changes to the predictors in the model\n",
    "        - Trying to remove outliers from zipcodes \n",
    "    - Explored additional transformations to the data.\n",
    "        - I was trying to be conservative to keep the interpretability of my model intact. \n",
    "        - Log-transforming the data improved the distributions but made it more difficult to interpret. \n",
    "    - I would further tweak the quality of the visuals, particularly changing the x-tick labels and rotation. "
   ]
  },
  {
   "cell_type": "code",
   "execution_count": null,
   "metadata": {
    "ExecuteTime": {
     "end_time": "2021-05-29T18:48:40.799303Z",
     "start_time": "2021-05-29T18:48:19.038Z"
    }
   },
   "outputs": [],
   "source": [
    "df_dropped.index"
   ]
  },
  {
   "cell_type": "code",
   "execution_count": null,
   "metadata": {
    "ExecuteTime": {
     "end_time": "2021-05-29T18:48:40.800303Z",
     "start_time": "2021-05-29T18:48:19.043Z"
    }
   },
   "outputs": [],
   "source": [
    "df_run.describe()"
   ]
  },
  {
   "cell_type": "code",
   "execution_count": null,
   "metadata": {
    "ExecuteTime": {
     "end_time": "2021-05-29T18:48:40.801315Z",
     "start_time": "2021-05-29T18:48:19.047Z"
    }
   },
   "outputs": [],
   "source": [
    "import pandas as pd\n",
    "\n",
    "df_final_data=pd.concat([df_run, df_dropped[['lat','long','id']]],axis=1)\n",
    "df_final_data.info()"
   ]
  },
  {
   "cell_type": "code",
   "execution_count": null,
   "metadata": {
    "ExecuteTime": {
     "end_time": "2021-05-29T18:48:40.803304Z",
     "start_time": "2021-05-29T18:48:19.052Z"
    }
   },
   "outputs": [],
   "source": [
    "# save final output\n",
    "# df_final_data.to_csv(data_filepath+'kc_housing_model_df_final_data.csv')\n"
   ]
  },
  {
   "cell_type": "markdown",
   "metadata": {},
   "source": [
    "___\n",
    "# SUMMARY FIGURE CODE FOR PRESENTATION"
   ]
  },
  {
   "cell_type": "code",
   "execution_count": null,
   "metadata": {
    "ExecuteTime": {
     "end_time": "2021-05-29T18:48:40.804305Z",
     "start_time": "2021-05-29T18:48:19.057Z"
    }
   },
   "outputs": [],
   "source": [
    "# Reset the visual style of the notebook\n",
    "import matplotlib as mpl\n",
    "import matplotlib.pyplot as plt\n",
    "mpl.rcParams.update(inline_rc)\n",
    "\n",
    "# inline_rc = dict(mpl.rcParams)"
   ]
  },
  {
   "cell_type": "code",
   "execution_count": null,
   "metadata": {
    "ExecuteTime": {
     "end_time": "2021-05-29T18:48:40.806303Z",
     "start_time": "2021-05-29T18:48:19.061Z"
    },
    "scrolled": false
   },
   "outputs": [],
   "source": [
    "import seaborn as sns\n",
    "import matplotlib.pyplot as plt\n",
    "import matplotlib.ticker as mtick\n",
    "# plt.style.use('dark_background')\n",
    "# plt.style.use('dark')\n",
    "\n",
    "\n",
    "# Define the figure and axes and the # of subplots, sharing the y axes\n",
    "fig, ax = plt.subplots(figsize=(16,12), ncols=2, nrows=2, sharey=True)\n",
    "\n",
    "## Defining Formatting to be Used\n",
    "\n",
    "# Formatting dollar sign labels\n",
    "fmtPrice = '${x:,.0f}'\n",
    "tickPrice = mtick.StrMethodFormatter(fmtPrice)\n",
    "\n",
    "# Axis Label fonts\n",
    "fontTitle = {'fontsize': 20,\n",
    "           'fontweight': 'bold',\n",
    "            'fontfamily':'serif'}\n",
    "\n",
    "fontAxis = {'fontsize': 16,\n",
    "           'fontweight': 'bold',\n",
    "            'fontfamily':'serif'}\n",
    "\n",
    "fontTicks = {'fontsize': 12,\n",
    "           'fontweight':'medium',\n",
    "            'fontfamily':'serif'}\n",
    "\n",
    "# The amount of space above titles\n",
    "y_title_margin = 1.01\n",
    "\n",
    "# Major title\n",
    "# plt.suptitle(\"Critical Factors for Predicting Sales Price\", y = 1.0, fontdict=fontTitle, fontsize=22)\n",
    "\n",
    "\n",
    "## Subplot 1\n",
    "i,j=0,0\n",
    "ax[i,j].set_title(\"Zipcode\",y = y_title_margin,fontdict=fontTitle)#, y = y_title_margin)\n",
    "sns.stripplot(df_final_data['zipcode'],df_final_data['price'],ax=ax[i,j],marker='o',size=3)\n",
    "\n",
    "# Remove xticks\n",
    "ax[i,j].set_xticks([]), ax[i,j].set_xlabel('')\n",
    "\n",
    "# Change y-tick labels\n",
    "ax[i,j].set_ylabel('Price',fontdict=fontAxis)\n",
    "\n",
    "yticklab = ax[i,j].get_yticklabels()\n",
    "ax[i,j].set_yticklabels(yticklab,fontdict=fontTicks)\n",
    "ax[i,j].get_yaxis().set_major_formatter(tickPrice)\n",
    "\n",
    "# Set y-grid\n",
    "ax[i, j].set_axisbelow(True)\n",
    "ax[i, j].grid(axis='y',ls='--')\n",
    "\n",
    "\n",
    "\n",
    "## Subplot 2\n",
    "i,j = 0,1\n",
    "ax[i,j].set_title(\"Housing Grade\",y = y_title_margin,fontdict=fontTitle)\n",
    "ax[i,j].title.set_fontsize(20)\n",
    "sns.stripplot(df_final_data['grade'],df_final_data['price'],ax=ax[i,j],marker='o',size=2)\n",
    "\n",
    "#Set x axis\n",
    "xticklab=ax[i,j].get_xticklabels()\n",
    "ax[i,j].set_xticklabels(xticklab,fontdict=fontTicks)\n",
    "ax[i,j].set_xlabel('Grade')\n",
    "\n",
    "\n",
    "# Change y-tick labels\n",
    "ax[i,j].set_ylabel('')# 'Price',fontdict=fontAxis)\n",
    "\n",
    "# Set y-grid\n",
    "ax[i, j].set_axisbelow(True)\n",
    "ax[i, j].grid(axis='y',ls='--')\n",
    "\n",
    "\n",
    "yticklab = ax[i,j].get_yticklabels()\n",
    "ax[i,j].set_yticklabels(yticklab,fontdict=fontTicks)\n",
    "ax[i,j].get_yaxis().set_major_formatter(tickPrice) \n",
    "\n",
    "\n",
    "## Subplot 3\n",
    "i,j = 1,0\n",
    "\n",
    "# Title\n",
    "ax[i,j].set_title(\"Living Space (sqft)\",y = y_title_margin,fontdict=fontTitle)\n",
    "ax[i,j].title.set_fontsize(20)\n",
    "\n",
    "# Define the scatter plot and line graph aesthetics\n",
    "line_kws={\"color\":\"orange\",\"alpha\":0.5,\"lw\":8,\"ls\":\":\"}\n",
    "scatter_kws={'s': 5, 'alpha': 0.5,'marker':'.','color':'red'}\n",
    "\n",
    "\n",
    "# Plot seaborn plot \n",
    "sns.regplot(df_final_data['sqft_living'], df_final_data['price'],ax=ax[i,j], scatter_kws=scatter_kws, line_kws=line_kws) #,marker='o',size=2) \n",
    "# sns.stripplot(df_final_data['sqft_living'], df_final_data['price'],ax=ax[i,j],marker='.') #,marker='o',size=2)\n",
    "\n",
    "## Change the x-axis \n",
    "ax[i,j].set_xlabel('Area (sqft)',fontdict=fontAxis)\n",
    "\n",
    "# Get ticks, rotate labels, and return\n",
    "# xticks = ax[i,j].get_xticks()\n",
    "xticklab=ax[i,j].get_xticklabels()\n",
    "ax[i,j].set_xticklabels(xticklab,fontdict=fontTicks, rotation=45)\n",
    "\n",
    "# Change the major units of x-axis\n",
    "ax[i,j].xaxis.set_major_locator(mtick.MultipleLocator(500))\n",
    "ax[i,j].xaxis.set_major_formatter(mtick.ScalarFormatter())\n",
    "\n",
    "## Change y-axis\n",
    "# Change y-tick labels\n",
    "ax[i,j].set_ylabel('Price',fontdict=fontAxis)\n",
    "\n",
    "yticklab = ax[i,j].get_yticklabels()\n",
    "ax[i,j].set_yticklabels(yticklab,fontdict=fontTicks)\n",
    "ax[i,j].get_yaxis().set_major_formatter(tickPrice) \n",
    "\n",
    "# Set y-grid\n",
    "ax[i, j].set_axisbelow(True)\n",
    "ax[i, j].grid(axis='y',ls='--')\n",
    "\n",
    "\n",
    "\n",
    "# ## Subplot 4\n",
    "i,j = 1,1\n",
    "ax[i,j].set_title(\"Neighbor's Living Space (sqft)\",y = y_title_margin,fontdict=fontTitle)\n",
    "ax[i,j].title.set_fontsize(20)\n",
    "\n",
    "# Define the scatter plot and line graph aesthetics\n",
    "line_kws={\"color\":\"lime\",\"alpha\":0.5,\"lw\":8,\"ls\":\":\"}\n",
    "scatter_kws={'s': 5, 'alpha': 0.5,'marker':'.','color':'blueviolet'}\n",
    "\n",
    "# Plot seaborn plot \n",
    "sns.regplot(df_final_data['sqft_living15'], df_final_data['price'],ax=ax[i,j], scatter_kws=scatter_kws, line_kws=line_kws)\n",
    "\n",
    "# Change the x-axis labels\n",
    "ax[i,j].set_xlabel('Area (sqft)',fontdict=fontAxis)\n",
    "\n",
    "# Get ticks, rotate labels, and return\n",
    "xticklab=ax[i,j].get_xticklabels()\n",
    "ax[i,j].set_xticklabels(xticklab,fontdict=fontTicks, rotation=45)\n",
    "\n",
    "# Change the major units of x-axis\n",
    "ax[i,j].xaxis.set_major_locator(mtick.MultipleLocator(500))\n",
    "ax[i,j].xaxis.set_major_formatter(mtick.ScalarFormatter())\n",
    "\n",
    "# Change y-tick labels\n",
    "ax[i,j].set_ylabel('')#Price',fontdict=fontAxis)\n",
    "\n",
    "yticklab = ax[i,j].get_yticklabels()\n",
    "ax[i,j].set_yticklabels(yticklab,fontdict=fontTicks)\n",
    "ax[i,j].get_yaxis().set_major_formatter(tickPrice) \n",
    "\n",
    "# Set y-grid\n",
    "ax[i, j].set_axisbelow(True)\n",
    "ax[i, j].grid(axis='y',ls='--')\n",
    "\n",
    "plt.tight_layout()\n",
    "plt.savefig(fig_filepath+\"summary_figure.png\") # save as png"
   ]
  },
  {
   "cell_type": "code",
   "execution_count": null,
   "metadata": {},
   "outputs": [],
   "source": []
  },
  {
   "cell_type": "code",
   "execution_count": null,
   "metadata": {
    "ExecuteTime": {
     "end_time": "2021-05-29T18:48:40.807302Z",
     "start_time": "2021-05-29T18:48:19.069Z"
    }
   },
   "outputs": [],
   "source": [
    "from IPython.display import Image\n",
    "Image(\"Final Figures/map_median_price.png\")"
   ]
  },
  {
   "cell_type": "code",
   "execution_count": null,
   "metadata": {
    "ExecuteTime": {
     "end_time": "2021-05-29T18:48:40.809303Z",
     "start_time": "2021-05-29T18:48:19.073Z"
    }
   },
   "outputs": [],
   "source": [
    "Image(\"Final Figures/map_latlong_price.png\")\n"
   ]
  },
  {
   "cell_type": "code",
   "execution_count": null,
   "metadata": {},
   "outputs": [],
   "source": []
  }
 ],
 "metadata": {
  "kernelspec": {
   "display_name": "Python 3",
   "language": "python",
   "name": "python3"
  },
  "language_info": {
   "codemirror_mode": {
    "name": "ipython",
    "version": 3
   },
   "file_extension": ".py",
   "mimetype": "text/x-python",
   "name": "python",
   "nbconvert_exporter": "python",
   "pygments_lexer": "ipython3",
   "version": "3.8.5"
  },
  "toc": {
   "base_numbering": 1,
   "nav_menu": {
    "height": "216px",
    "width": "319px"
   },
   "number_sections": false,
   "sideBar": true,
   "skip_h1_title": false,
   "title_cell": "Table of Contents (Links)",
   "title_sidebar": "Contents",
   "toc_cell": true,
   "toc_position": {
    "height": "calc(100% - 180px)",
    "left": "10px",
    "top": "150px",
    "width": "309.75px"
   },
   "toc_section_display": true,
   "toc_window_display": true
  },
  "varInspector": {
   "cols": {
    "lenName": 16,
    "lenType": 16,
    "lenVar": 40
   },
   "kernels_config": {
    "python": {
     "delete_cmd_postfix": "",
     "delete_cmd_prefix": "del ",
     "library": "var_list.py",
     "varRefreshCmd": "print(var_dic_list())"
    },
    "r": {
     "delete_cmd_postfix": ") ",
     "delete_cmd_prefix": "rm(",
     "library": "var_list.r",
     "varRefreshCmd": "cat(var_dic_list()) "
    }
   },
   "oldHeight": 420.031,
   "position": {
    "height": "442.016px",
    "left": "1573px",
    "right": "20px",
    "top": "-53px",
    "width": "643.563px"
   },
   "types_to_exclude": [
    "module",
    "function",
    "builtin_function_or_method",
    "instance",
    "_Feature"
   ],
   "varInspector_section_display": "block",
   "window_display": false
  }
 },
 "nbformat": 4,
 "nbformat_minor": 2
}
